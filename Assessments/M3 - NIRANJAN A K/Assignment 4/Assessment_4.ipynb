{
 "cells": [
  {
   "cell_type": "markdown",
   "id": "d2482282",
   "metadata": {},
   "source": [
    "# 1. Download the dataset\n",
    "Dataset was successfully downloaded as Mall_Customers.csv"
   ]
  },
  {
   "cell_type": "markdown",
   "id": "f6c7f15d",
   "metadata": {},
   "source": [
    "# 2. Load the dataset into the tool."
   ]
  },
  {
   "cell_type": "code",
   "execution_count": 1,
   "id": "369d5556",
   "metadata": {},
   "outputs": [
    {
     "data": {
      "text/html": [
       "<div>\n",
       "<style scoped>\n",
       "    .dataframe tbody tr th:only-of-type {\n",
       "        vertical-align: middle;\n",
       "    }\n",
       "\n",
       "    .dataframe tbody tr th {\n",
       "        vertical-align: top;\n",
       "    }\n",
       "\n",
       "    .dataframe thead th {\n",
       "        text-align: right;\n",
       "    }\n",
       "</style>\n",
       "<table border=\"1\" class=\"dataframe\">\n",
       "  <thead>\n",
       "    <tr style=\"text-align: right;\">\n",
       "      <th></th>\n",
       "      <th>CustomerID</th>\n",
       "      <th>Gender</th>\n",
       "      <th>Age</th>\n",
       "      <th>Annual Income (k$)</th>\n",
       "      <th>Spending Score (1-100)</th>\n",
       "    </tr>\n",
       "  </thead>\n",
       "  <tbody>\n",
       "    <tr>\n",
       "      <th>0</th>\n",
       "      <td>1</td>\n",
       "      <td>Male</td>\n",
       "      <td>19</td>\n",
       "      <td>15</td>\n",
       "      <td>39</td>\n",
       "    </tr>\n",
       "    <tr>\n",
       "      <th>1</th>\n",
       "      <td>2</td>\n",
       "      <td>Male</td>\n",
       "      <td>21</td>\n",
       "      <td>15</td>\n",
       "      <td>81</td>\n",
       "    </tr>\n",
       "    <tr>\n",
       "      <th>2</th>\n",
       "      <td>3</td>\n",
       "      <td>Female</td>\n",
       "      <td>20</td>\n",
       "      <td>16</td>\n",
       "      <td>6</td>\n",
       "    </tr>\n",
       "    <tr>\n",
       "      <th>3</th>\n",
       "      <td>4</td>\n",
       "      <td>Female</td>\n",
       "      <td>23</td>\n",
       "      <td>16</td>\n",
       "      <td>77</td>\n",
       "    </tr>\n",
       "    <tr>\n",
       "      <th>4</th>\n",
       "      <td>5</td>\n",
       "      <td>Female</td>\n",
       "      <td>31</td>\n",
       "      <td>17</td>\n",
       "      <td>40</td>\n",
       "    </tr>\n",
       "    <tr>\n",
       "      <th>...</th>\n",
       "      <td>...</td>\n",
       "      <td>...</td>\n",
       "      <td>...</td>\n",
       "      <td>...</td>\n",
       "      <td>...</td>\n",
       "    </tr>\n",
       "    <tr>\n",
       "      <th>195</th>\n",
       "      <td>196</td>\n",
       "      <td>Female</td>\n",
       "      <td>35</td>\n",
       "      <td>120</td>\n",
       "      <td>79</td>\n",
       "    </tr>\n",
       "    <tr>\n",
       "      <th>196</th>\n",
       "      <td>197</td>\n",
       "      <td>Female</td>\n",
       "      <td>45</td>\n",
       "      <td>126</td>\n",
       "      <td>28</td>\n",
       "    </tr>\n",
       "    <tr>\n",
       "      <th>197</th>\n",
       "      <td>198</td>\n",
       "      <td>Male</td>\n",
       "      <td>32</td>\n",
       "      <td>126</td>\n",
       "      <td>74</td>\n",
       "    </tr>\n",
       "    <tr>\n",
       "      <th>198</th>\n",
       "      <td>199</td>\n",
       "      <td>Male</td>\n",
       "      <td>32</td>\n",
       "      <td>137</td>\n",
       "      <td>18</td>\n",
       "    </tr>\n",
       "    <tr>\n",
       "      <th>199</th>\n",
       "      <td>200</td>\n",
       "      <td>Male</td>\n",
       "      <td>30</td>\n",
       "      <td>137</td>\n",
       "      <td>83</td>\n",
       "    </tr>\n",
       "  </tbody>\n",
       "</table>\n",
       "<p>200 rows × 5 columns</p>\n",
       "</div>"
      ],
      "text/plain": [
       "     CustomerID  Gender  Age  Annual Income (k$)  Spending Score (1-100)\n",
       "0             1    Male   19                  15                      39\n",
       "1             2    Male   21                  15                      81\n",
       "2             3  Female   20                  16                       6\n",
       "3             4  Female   23                  16                      77\n",
       "4             5  Female   31                  17                      40\n",
       "..          ...     ...  ...                 ...                     ...\n",
       "195         196  Female   35                 120                      79\n",
       "196         197  Female   45                 126                      28\n",
       "197         198    Male   32                 126                      74\n",
       "198         199    Male   32                 137                      18\n",
       "199         200    Male   30                 137                      83\n",
       "\n",
       "[200 rows x 5 columns]"
      ]
     },
     "execution_count": 1,
     "metadata": {},
     "output_type": "execute_result"
    }
   ],
   "source": [
    "import numpy as np\n",
    "import matplotlib.pyplot as plt\n",
    "import pandas as pd\n",
    "import seaborn as sns\n",
    "\n",
    "ob = pd.read_csv('Mall_Customers.csv')\n",
    "ob"
   ]
  },
  {
   "cell_type": "markdown",
   "id": "af5c863d",
   "metadata": {},
   "source": [
    "# 3. Perform Below Visualizations."
   ]
  },
  {
   "cell_type": "markdown",
   "id": "6e9029d9",
   "metadata": {},
   "source": [
    "## ∙ Univariate Analysis"
   ]
  },
  {
   "cell_type": "code",
   "execution_count": 2,
   "id": "53f6d159",
   "metadata": {},
   "outputs": [
    {
     "data": {
      "text/plain": [
       "(array([24., 22., 28., 38., 30., 36.,  8.,  6.,  4.,  4.]),\n",
       " array([ 15. ,  27.2,  39.4,  51.6,  63.8,  76. ,  88.2, 100.4, 112.6,\n",
       "        124.8, 137. ]),\n",
       " <BarContainer object of 10 artists>)"
      ]
     },
     "execution_count": 2,
     "metadata": {},
     "output_type": "execute_result"
    },
    {
     "data": {
      "image/png": "[encoded data removed]",
      "text/plain": [
       "<Figure size 432x288 with 1 Axes>"
      ]
     },
     "metadata": {
      "needs_background": "light"
     },
     "output_type": "display_data"
    }
   ],
   "source": [
    "plt.hist(ob['Annual Income (k$)'])"
   ]
  },
  {
   "cell_type": "code",
   "execution_count": 3,
   "id": "371e90de",
   "metadata": {},
   "outputs": [
    {
     "data": {
      "text/plain": [
       "(array([31., 19., 34., 29., 16., 26., 15., 10.,  6., 14.]),\n",
       " array([18. , 23.2, 28.4, 33.6, 38.8, 44. , 49.2, 54.4, 59.6, 64.8, 70. ]),\n",
       " <BarContainer object of 10 artists>)"
      ]
     },
     "execution_count": 3,
     "metadata": {},
     "output_type": "execute_result"
    },
    {
     "data": {
      "image/png": "[encoded data removed]",
      "text/plain": [
       "<Figure size 432x288 with 1 Axes>"
      ]
     },
     "metadata": {
      "needs_background": "light"
     },
     "output_type": "display_data"
    }
   ],
   "source": [
    "plt.hist(ob['Age'])"
   ]
  },
  {
   "cell_type": "code",
   "execution_count": 4,
   "id": "1f2ea88c",
   "metadata": {},
   "outputs": [
    {
     "name": "stderr",
     "output_type": "stream",
     "text": [
      "C:\\Users\\Sanjana\\anaconda3\\lib\\site-packages\\seaborn\\_decorators.py:36: FutureWarning: Pass the following variable as a keyword arg: x. From version 0.12, the only valid positional argument will be `data`, and passing other arguments without an explicit keyword will result in an error or misinterpretation.\n",
      "  warnings.warn(\n"
     ]
    },
    {
     "data": {
      "text/plain": [
       "<AxesSubplot:xlabel='Age', ylabel='count'>"
      ]
     },
     "execution_count": 4,
     "metadata": {},
     "output_type": "execute_result"
    },
    {
     "data": {
      "image/png": "[encoded data removed]",
      "text/plain": [
       "<Figure size 432x288 with 1 Axes>"
      ]
     },
     "metadata": {
      "needs_background": "light"
     },
     "output_type": "display_data"
    }
   ],
   "source": [
    "sns.countplot(ob['Age'])"
   ]
  },
  {
   "cell_type": "code",
   "execution_count": 5,
   "id": "602ed520",
   "metadata": {},
   "outputs": [
    {
     "name": "stderr",
     "output_type": "stream",
     "text": [
      "C:\\Users\\Sanjana\\anaconda3\\lib\\site-packages\\seaborn\\_decorators.py:36: FutureWarning: Pass the following variable as a keyword arg: x. From version 0.12, the only valid positional argument will be `data`, and passing other arguments without an explicit keyword will result in an error or misinterpretation.\n",
      "  warnings.warn(\n"
     ]
    },
    {
     "data": {
      "text/plain": [
       "<AxesSubplot:xlabel='Gender', ylabel='count'>"
      ]
     },
     "execution_count": 5,
     "metadata": {},
     "output_type": "execute_result"
    },
    {
     "data": {
      "image/png": "[encoded data removed]",
      "text/plain": [
       "<Figure size 432x288 with 1 Axes>"
      ]
     },
     "metadata": {
      "needs_background": "light"
     },
     "output_type": "display_data"
    }
   ],
   "source": [
    "sns.countplot(ob['Gender'])"
   ]
  },
  {
   "cell_type": "code",
   "execution_count": 6,
   "id": "f5a298c3",
   "metadata": {},
   "outputs": [
    {
     "data": {
      "text/plain": [
       "(array([16., 20., 10., 17., 35., 37., 11., 24., 14., 16.]),\n",
       " array([ 1. , 10.8, 20.6, 30.4, 40.2, 50. , 59.8, 69.6, 79.4, 89.2, 99. ]),\n",
       " <BarContainer object of 10 artists>)"
      ]
     },
     "execution_count": 6,
     "metadata": {},
     "output_type": "execute_result"
    },
    {
     "data": {
      "image/png": "[encoded data removed]",
      "text/plain": [
       "<Figure size 432x288 with 1 Axes>"
      ]
     },
     "metadata": {
      "needs_background": "light"
     },
     "output_type": "display_data"
    }
   ],
   "source": [
    "plt.hist(ob['Spending Score (1-100)'])"
   ]
  },
  {
   "cell_type": "markdown",
   "id": "bffd986e",
   "metadata": {},
   "source": [
    "## ∙ Bi- Variate Analysis"
   ]
  },
  {
   "cell_type": "code",
   "execution_count": 7,
   "id": "1404ab01",
   "metadata": {},
   "outputs": [
    {
     "data": {
      "text/plain": [
       "<matplotlib.collections.PathCollection at 0x1ce37eab190>"
      ]
     },
     "execution_count": 7,
     "metadata": {},
     "output_type": "execute_result"
    },
    {
     "data": {
      "image/png": "[encoded data removed]",
      "text/plain": [
       "<Figure size 432x288 with 1 Axes>"
      ]
     },
     "metadata": {
      "needs_background": "light"
     },
     "output_type": "display_data"
    }
   ],
   "source": [
    "plt.scatter(ob['Spending Score (1-100)'],ob['Annual Income (k$)'])"
   ]
  },
  {
   "cell_type": "code",
   "execution_count": 8,
   "id": "0d3dc9e6",
   "metadata": {},
   "outputs": [
    {
     "data": {
      "text/plain": [
       "<matplotlib.collections.PathCollection at 0x1ce3818ac10>"
      ]
     },
     "execution_count": 8,
     "metadata": {},
     "output_type": "execute_result"
    },
    {
     "data": {
      "image/png": "[encoded data removed]",
      "text/plain": [
       "<Figure size 432x288 with 1 Axes>"
      ]
     },
     "metadata": {
      "needs_background": "light"
     },
     "output_type": "display_data"
    }
   ],
   "source": [
    "plt.scatter(ob['Gender'],ob['Annual Income (k$)'])"
   ]
  },
  {
   "cell_type": "code",
   "execution_count": 9,
   "id": "b540f80e",
   "metadata": {},
   "outputs": [
    {
     "data": {
      "text/plain": [
       "<matplotlib.collections.PathCollection at 0x1ce381ec640>"
      ]
     },
     "execution_count": 9,
     "metadata": {},
     "output_type": "execute_result"
    },
    {
     "data": {
      "image/png": "[encoded data removed]",
      "text/plain": [
       "<Figure size 432x288 with 1 Axes>"
      ]
     },
     "metadata": {
      "needs_background": "light"
     },
     "output_type": "display_data"
    }
   ],
   "source": [
    "plt.scatter(ob['Age'],ob['Spending Score (1-100)'])"
   ]
  },
  {
   "cell_type": "code",
   "execution_count": 10,
   "id": "fd84d19f",
   "metadata": {},
   "outputs": [
    {
     "data": {
      "text/plain": [
       "<matplotlib.collections.PathCollection at 0x1ce38237610>"
      ]
     },
     "execution_count": 10,
     "metadata": {},
     "output_type": "execute_result"
    },
    {
     "data": {
      "image/png": "[encoded data removed]",
      "text/plain": [
       "<Figure size 432x288 with 1 Axes>"
      ]
     },
     "metadata": {
      "needs_background": "light"
     },
     "output_type": "display_data"
    }
   ],
   "source": [
    "plt.scatter(ob['Age'],ob['Annual Income (k$)'])"
   ]
  },
  {
   "cell_type": "code",
   "execution_count": 11,
   "id": "94042d08",
   "metadata": {},
   "outputs": [
    {
     "data": {
      "text/plain": [
       "<AxesSubplot:>"
      ]
     },
     "execution_count": 11,
     "metadata": {},
     "output_type": "execute_result"
    },
    {
     "data": {
      "image/png": "[encoded data removed]",
      "text/plain": [
       "<Figure size 432x288 with 2 Axes>"
      ]
     },
     "metadata": {
      "needs_background": "light"
     },
     "output_type": "display_data"
    }
   ],
   "source": [
    "sns.heatmap(ob.corr(), annot = True)"
   ]
  },
  {
   "cell_type": "code",
   "execution_count": 12,
   "id": "0c1e71d0",
   "metadata": {},
   "outputs": [
    {
     "name": "stderr",
     "output_type": "stream",
     "text": [
      "C:\\Users\\Sanjana\\anaconda3\\lib\\site-packages\\seaborn\\_decorators.py:36: FutureWarning: Pass the following variables as keyword args: x, y. From version 0.12, the only valid positional argument will be `data`, and passing other arguments without an explicit keyword will result in an error or misinterpretation.\n",
      "  warnings.warn(\n"
     ]
    },
    {
     "data": {
      "text/plain": [
       "<AxesSubplot:xlabel='Gender', ylabel='Age'>"
      ]
     },
     "execution_count": 12,
     "metadata": {},
     "output_type": "execute_result"
    },
    {
     "data": {
      "image/png": "[encoded data removed]",
      "text/plain": [
       "<Figure size 432x288 with 1 Axes>"
      ]
     },
     "metadata": {
      "needs_background": "light"
     },
     "output_type": "display_data"
    }
   ],
   "source": [
    "sns.barplot(ob['Gender'], ob['Age'])"
   ]
  },
  {
   "cell_type": "markdown",
   "id": "2bfbac10",
   "metadata": {},
   "source": [
    "## ∙ Multi-Variate Analysis"
   ]
  },
  {
   "cell_type": "code",
   "execution_count": 13,
   "id": "e8e807b2",
   "metadata": {},
   "outputs": [
    {
     "name": "stderr",
     "output_type": "stream",
     "text": [
      "C:\\Users\\Sanjana\\anaconda3\\lib\\site-packages\\seaborn\\_decorators.py:36: FutureWarning: Pass the following variables as keyword args: x, y, data. From version 0.12, the only valid positional argument will be `data`, and passing other arguments without an explicit keyword will result in an error or misinterpretation.\n",
      "  warnings.warn(\n"
     ]
    },
    {
     "data": {
      "image/png": "[encoded data removed]",
      "text/plain": [
       "<Figure size 432.125x360 with 1 Axes>"
      ]
     },
     "metadata": {
      "needs_background": "light"
     },
     "output_type": "display_data"
    }
   ],
   "source": [
    "sns.lmplot(\"Spending Score (1-100)\",\"Annual Income (k$)\", ob, hue=\"Gender\", fit_reg=False);"
   ]
  },
  {
   "cell_type": "code",
   "execution_count": 14,
   "id": "18353cf9",
   "metadata": {},
   "outputs": [
    {
     "data": {
      "text/plain": [
       "<seaborn.axisgrid.PairGrid at 0x1ce3833b880>"
      ]
     },
     "execution_count": 14,
     "metadata": {},
     "output_type": "execute_result"
    },
    {
     "data": {
      "image/png": "[encoded data removed]",
      "text/plain": [
       "<Figure size 720x720 with 20 Axes>"
      ]
     },
     "metadata": {
      "needs_background": "light"
     },
     "output_type": "display_data"
    }
   ],
   "source": [
    "sns.pairplot(ob)"
   ]
  },
  {
   "cell_type": "markdown",
   "id": "09a001a7",
   "metadata": {},
   "source": [
    "# 4. Perform descriptive statistics on the dataset."
   ]
  },
  {
   "cell_type": "code",
   "execution_count": 15,
   "id": "a4582cce",
   "metadata": {},
   "outputs": [
    {
     "data": {
      "text/html": [
       "<div>\n",
       "<style scoped>\n",
       "    .dataframe tbody tr th:only-of-type {\n",
       "        vertical-align: middle;\n",
       "    }\n",
       "\n",
       "    .dataframe tbody tr th {\n",
       "        vertical-align: top;\n",
       "    }\n",
       "\n",
       "    .dataframe thead th {\n",
       "        text-align: right;\n",
       "    }\n",
       "</style>\n",
       "<table border=\"1\" class=\"dataframe\">\n",
       "  <thead>\n",
       "    <tr style=\"text-align: right;\">\n",
       "      <th></th>\n",
       "      <th>CustomerID</th>\n",
       "      <th>Age</th>\n",
       "      <th>Annual Income (k$)</th>\n",
       "      <th>Spending Score (1-100)</th>\n",
       "    </tr>\n",
       "  </thead>\n",
       "  <tbody>\n",
       "    <tr>\n",
       "      <th>count</th>\n",
       "      <td>200.000000</td>\n",
       "      <td>200.000000</td>\n",
       "      <td>200.000000</td>\n",
       "      <td>200.000000</td>\n",
       "    </tr>\n",
       "    <tr>\n",
       "      <th>mean</th>\n",
       "      <td>100.500000</td>\n",
       "      <td>38.850000</td>\n",
       "      <td>60.560000</td>\n",
       "      <td>50.200000</td>\n",
       "    </tr>\n",
       "    <tr>\n",
       "      <th>std</th>\n",
       "      <td>57.879185</td>\n",
       "      <td>13.969007</td>\n",
       "      <td>26.264721</td>\n",
       "      <td>25.823522</td>\n",
       "    </tr>\n",
       "    <tr>\n",
       "      <th>min</th>\n",
       "      <td>1.000000</td>\n",
       "      <td>18.000000</td>\n",
       "      <td>15.000000</td>\n",
       "      <td>1.000000</td>\n",
       "    </tr>\n",
       "    <tr>\n",
       "      <th>25%</th>\n",
       "      <td>50.750000</td>\n",
       "      <td>28.750000</td>\n",
       "      <td>41.500000</td>\n",
       "      <td>34.750000</td>\n",
       "    </tr>\n",
       "    <tr>\n",
       "      <th>50%</th>\n",
       "      <td>100.500000</td>\n",
       "      <td>36.000000</td>\n",
       "      <td>61.500000</td>\n",
       "      <td>50.000000</td>\n",
       "    </tr>\n",
       "    <tr>\n",
       "      <th>75%</th>\n",
       "      <td>150.250000</td>\n",
       "      <td>49.000000</td>\n",
       "      <td>78.000000</td>\n",
       "      <td>73.000000</td>\n",
       "    </tr>\n",
       "    <tr>\n",
       "      <th>max</th>\n",
       "      <td>200.000000</td>\n",
       "      <td>70.000000</td>\n",
       "      <td>137.000000</td>\n",
       "      <td>99.000000</td>\n",
       "    </tr>\n",
       "  </tbody>\n",
       "</table>\n",
       "</div>"
      ],
      "text/plain": [
       "       CustomerID         Age  Annual Income (k$)  Spending Score (1-100)\n",
       "count  200.000000  200.000000          200.000000              200.000000\n",
       "mean   100.500000   38.850000           60.560000               50.200000\n",
       "std     57.879185   13.969007           26.264721               25.823522\n",
       "min      1.000000   18.000000           15.000000                1.000000\n",
       "25%     50.750000   28.750000           41.500000               34.750000\n",
       "50%    100.500000   36.000000           61.500000               50.000000\n",
       "75%    150.250000   49.000000           78.000000               73.000000\n",
       "max    200.000000   70.000000          137.000000               99.000000"
      ]
     },
     "execution_count": 15,
     "metadata": {},
     "output_type": "execute_result"
    }
   ],
   "source": [
    "ob.describe()"
   ]
  },
  {
   "cell_type": "code",
   "execution_count": 16,
   "id": "32688800",
   "metadata": {},
   "outputs": [
    {
     "data": {
      "text/html": [
       "<div>\n",
       "<style scoped>\n",
       "    .dataframe tbody tr th:only-of-type {\n",
       "        vertical-align: middle;\n",
       "    }\n",
       "\n",
       "    .dataframe tbody tr th {\n",
       "        vertical-align: top;\n",
       "    }\n",
       "\n",
       "    .dataframe thead th {\n",
       "        text-align: right;\n",
       "    }\n",
       "</style>\n",
       "<table border=\"1\" class=\"dataframe\">\n",
       "  <thead>\n",
       "    <tr style=\"text-align: right;\">\n",
       "      <th></th>\n",
       "      <th>count</th>\n",
       "      <th>mean</th>\n",
       "      <th>std</th>\n",
       "      <th>min</th>\n",
       "      <th>25%</th>\n",
       "      <th>50%</th>\n",
       "      <th>75%</th>\n",
       "      <th>max</th>\n",
       "    </tr>\n",
       "  </thead>\n",
       "  <tbody>\n",
       "    <tr>\n",
       "      <th>CustomerID</th>\n",
       "      <td>200.0</td>\n",
       "      <td>100.50</td>\n",
       "      <td>57.879185</td>\n",
       "      <td>1.0</td>\n",
       "      <td>50.75</td>\n",
       "      <td>100.5</td>\n",
       "      <td>150.25</td>\n",
       "      <td>200.0</td>\n",
       "    </tr>\n",
       "    <tr>\n",
       "      <th>Age</th>\n",
       "      <td>200.0</td>\n",
       "      <td>38.85</td>\n",
       "      <td>13.969007</td>\n",
       "      <td>18.0</td>\n",
       "      <td>28.75</td>\n",
       "      <td>36.0</td>\n",
       "      <td>49.00</td>\n",
       "      <td>70.0</td>\n",
       "    </tr>\n",
       "    <tr>\n",
       "      <th>Annual Income (k$)</th>\n",
       "      <td>200.0</td>\n",
       "      <td>60.56</td>\n",
       "      <td>26.264721</td>\n",
       "      <td>15.0</td>\n",
       "      <td>41.50</td>\n",
       "      <td>61.5</td>\n",
       "      <td>78.00</td>\n",
       "      <td>137.0</td>\n",
       "    </tr>\n",
       "    <tr>\n",
       "      <th>Spending Score (1-100)</th>\n",
       "      <td>200.0</td>\n",
       "      <td>50.20</td>\n",
       "      <td>25.823522</td>\n",
       "      <td>1.0</td>\n",
       "      <td>34.75</td>\n",
       "      <td>50.0</td>\n",
       "      <td>73.00</td>\n",
       "      <td>99.0</td>\n",
       "    </tr>\n",
       "  </tbody>\n",
       "</table>\n",
       "</div>"
      ],
      "text/plain": [
       "                        count    mean        std   min    25%    50%     75%  \\\n",
       "CustomerID              200.0  100.50  57.879185   1.0  50.75  100.5  150.25   \n",
       "Age                     200.0   38.85  13.969007  18.0  28.75   36.0   49.00   \n",
       "Annual Income (k$)      200.0   60.56  26.264721  15.0  41.50   61.5   78.00   \n",
       "Spending Score (1-100)  200.0   50.20  25.823522   1.0  34.75   50.0   73.00   \n",
       "\n",
       "                          max  \n",
       "CustomerID              200.0  \n",
       "Age                      70.0  \n",
       "Annual Income (k$)      137.0  \n",
       "Spending Score (1-100)   99.0  "
      ]
     },
     "execution_count": 16,
     "metadata": {},
     "output_type": "execute_result"
    }
   ],
   "source": [
    "ob.describe().T"
   ]
  },
  {
   "cell_type": "code",
   "execution_count": 17,
   "id": "9dbdcaed",
   "metadata": {},
   "outputs": [
    {
     "data": {
      "text/plain": [
       "CustomerID                 int64\n",
       "Gender                    object\n",
       "Age                        int64\n",
       "Annual Income (k$)         int64\n",
       "Spending Score (1-100)     int64\n",
       "dtype: object"
      ]
     },
     "execution_count": 17,
     "metadata": {},
     "output_type": "execute_result"
    }
   ],
   "source": [
    "ob.dtypes"
   ]
  },
  {
   "cell_type": "code",
   "execution_count": 18,
   "id": "73903493",
   "metadata": {},
   "outputs": [
    {
     "name": "stderr",
     "output_type": "stream",
     "text": [
      "C:\\Users\\Sanjana\\AppData\\Local\\Temp\\ipykernel_17032\\1003771644.py:1: FutureWarning: Dropping of nuisance columns in DataFrame reductions (with 'numeric_only=None') is deprecated; in a future version this will raise TypeError.  Select only valid columns before calling the reduction.\n",
      "  ob.var()\n"
     ]
    },
    {
     "data": {
      "text/plain": [
       "CustomerID                3350.000000\n",
       "Age                        195.133166\n",
       "Annual Income (k$)         689.835578\n",
       "Spending Score (1-100)     666.854271\n",
       "dtype: float64"
      ]
     },
     "execution_count": 18,
     "metadata": {},
     "output_type": "execute_result"
    }
   ],
   "source": [
    "ob.var()"
   ]
  },
  {
   "cell_type": "code",
   "execution_count": 19,
   "id": "9f05f0f9",
   "metadata": {},
   "outputs": [
    {
     "name": "stderr",
     "output_type": "stream",
     "text": [
      "C:\\Users\\Sanjana\\AppData\\Local\\Temp\\ipykernel_17032\\4211750893.py:1: FutureWarning: Dropping of nuisance columns in DataFrame reductions (with 'numeric_only=None') is deprecated; in a future version this will raise TypeError.  Select only valid columns before calling the reduction.\n",
      "  ob.skew()\n"
     ]
    },
    {
     "data": {
      "text/plain": [
       "CustomerID                0.000000\n",
       "Age                       0.485569\n",
       "Annual Income (k$)        0.321843\n",
       "Spending Score (1-100)   -0.047220\n",
       "dtype: float64"
      ]
     },
     "execution_count": 19,
     "metadata": {},
     "output_type": "execute_result"
    }
   ],
   "source": [
    "ob.skew()"
   ]
  },
  {
   "cell_type": "code",
   "execution_count": 20,
   "id": "55f88484",
   "metadata": {},
   "outputs": [
    {
     "data": {
      "text/html": [
       "<div>\n",
       "<style scoped>\n",
       "    .dataframe tbody tr th:only-of-type {\n",
       "        vertical-align: middle;\n",
       "    }\n",
       "\n",
       "    .dataframe tbody tr th {\n",
       "        vertical-align: top;\n",
       "    }\n",
       "\n",
       "    .dataframe thead th {\n",
       "        text-align: right;\n",
       "    }\n",
       "</style>\n",
       "<table border=\"1\" class=\"dataframe\">\n",
       "  <thead>\n",
       "    <tr style=\"text-align: right;\">\n",
       "      <th></th>\n",
       "      <th>CustomerID</th>\n",
       "      <th>Age</th>\n",
       "      <th>Annual Income (k$)</th>\n",
       "      <th>Spending Score (1-100)</th>\n",
       "    </tr>\n",
       "  </thead>\n",
       "  <tbody>\n",
       "    <tr>\n",
       "      <th>CustomerID</th>\n",
       "      <td>1.000000</td>\n",
       "      <td>-0.026763</td>\n",
       "      <td>0.977548</td>\n",
       "      <td>0.013835</td>\n",
       "    </tr>\n",
       "    <tr>\n",
       "      <th>Age</th>\n",
       "      <td>-0.026763</td>\n",
       "      <td>1.000000</td>\n",
       "      <td>-0.012398</td>\n",
       "      <td>-0.327227</td>\n",
       "    </tr>\n",
       "    <tr>\n",
       "      <th>Annual Income (k$)</th>\n",
       "      <td>0.977548</td>\n",
       "      <td>-0.012398</td>\n",
       "      <td>1.000000</td>\n",
       "      <td>0.009903</td>\n",
       "    </tr>\n",
       "    <tr>\n",
       "      <th>Spending Score (1-100)</th>\n",
       "      <td>0.013835</td>\n",
       "      <td>-0.327227</td>\n",
       "      <td>0.009903</td>\n",
       "      <td>1.000000</td>\n",
       "    </tr>\n",
       "  </tbody>\n",
       "</table>\n",
       "</div>"
      ],
      "text/plain": [
       "                        CustomerID       Age  Annual Income (k$)  \\\n",
       "CustomerID                1.000000 -0.026763            0.977548   \n",
       "Age                      -0.026763  1.000000           -0.012398   \n",
       "Annual Income (k$)        0.977548 -0.012398            1.000000   \n",
       "Spending Score (1-100)    0.013835 -0.327227            0.009903   \n",
       "\n",
       "                        Spending Score (1-100)  \n",
       "CustomerID                            0.013835  \n",
       "Age                                  -0.327227  \n",
       "Annual Income (k$)                    0.009903  \n",
       "Spending Score (1-100)                1.000000  "
      ]
     },
     "execution_count": 20,
     "metadata": {},
     "output_type": "execute_result"
    }
   ],
   "source": [
    "ob.corr()"
   ]
  },
  {
   "cell_type": "code",
   "execution_count": 21,
   "id": "8594deed",
   "metadata": {},
   "outputs": [
    {
     "name": "stderr",
     "output_type": "stream",
     "text": [
      "C:\\Users\\Sanjana\\AppData\\Local\\Temp\\ipykernel_17032\\2711433552.py:1: FutureWarning: Dropping of nuisance columns in DataFrame reductions (with 'numeric_only=None') is deprecated; in a future version this will raise TypeError.  Select only valid columns before calling the reduction.\n",
      "  ob.std()\n"
     ]
    },
    {
     "data": {
      "text/plain": [
       "CustomerID                57.879185\n",
       "Age                       13.969007\n",
       "Annual Income (k$)        26.264721\n",
       "Spending Score (1-100)    25.823522\n",
       "dtype: float64"
      ]
     },
     "execution_count": 21,
     "metadata": {},
     "output_type": "execute_result"
    }
   ],
   "source": [
    "ob.std()"
   ]
  },
  {
   "cell_type": "markdown",
   "id": "155c235d",
   "metadata": {},
   "source": [
    "# 5. Check for Missing values and deal with them."
   ]
  },
  {
   "cell_type": "code",
   "execution_count": 22,
   "id": "c8e9433e",
   "metadata": {},
   "outputs": [
    {
     "data": {
      "text/plain": [
       "CustomerID                0\n",
       "Gender                    0\n",
       "Age                       0\n",
       "Annual Income (k$)        0\n",
       "Spending Score (1-100)    0\n",
       "dtype: int64"
      ]
     },
     "execution_count": 22,
     "metadata": {},
     "output_type": "execute_result"
    }
   ],
   "source": [
    "ob.isna().sum()"
   ]
  },
  {
   "cell_type": "code",
   "execution_count": 23,
   "id": "a70b6d87",
   "metadata": {},
   "outputs": [
    {
     "data": {
      "text/plain": [
       "0"
      ]
     },
     "execution_count": 23,
     "metadata": {},
     "output_type": "execute_result"
    }
   ],
   "source": [
    "ob.isna().sum().sum()"
   ]
  },
  {
   "cell_type": "code",
   "execution_count": 24,
   "id": "e17f296a",
   "metadata": {},
   "outputs": [
    {
     "data": {
      "text/plain": [
       "0"
      ]
     },
     "execution_count": 24,
     "metadata": {},
     "output_type": "execute_result"
    }
   ],
   "source": [
    "ob.duplicated().sum()"
   ]
  },
  {
   "cell_type": "markdown",
   "id": "2b04b23d",
   "metadata": {},
   "source": [
    "# 6. Find the outliers and replace them outliers"
   ]
  },
  {
   "cell_type": "code",
   "execution_count": 25,
   "id": "b67603c5",
   "metadata": {},
   "outputs": [
    {
     "data": {
      "text/plain": [
       "<AxesSubplot:xlabel='CustomerID'>"
      ]
     },
     "execution_count": 25,
     "metadata": {},
     "output_type": "execute_result"
    },
    {
     "data": {
      "image/png": "[encoded data removed]",
      "text/plain": [
       "<Figure size 1800x360 with 4 Axes>"
      ]
     },
     "metadata": {
      "needs_background": "light"
     },
     "output_type": "display_data"
    }
   ],
   "source": [
    "fig,ax=plt.subplots(figsize=(25,5))\n",
    "\n",
    "plt.subplot(1, 5, 2)\n",
    "sns.boxplot(x=ob['Age'])\n",
    "\n",
    "plt.subplot(1, 5, 3)\n",
    "sns.boxplot(x=ob['Annual Income (k$)'])\n",
    "\n",
    "plt.subplot(1, 5, 4)\n",
    "sns.boxplot(x=ob['Spending Score (1-100)'])\n",
    "\n",
    "plt.subplot(1, 5, 1)\n",
    "sns.boxplot(x=ob['CustomerID'])"
   ]
  },
  {
   "cell_type": "code",
   "execution_count": 26,
   "id": "b4240c69",
   "metadata": {},
   "outputs": [
    {
     "data": {
      "text/html": [
       "<div>\n",
       "<style scoped>\n",
       "    .dataframe tbody tr th:only-of-type {\n",
       "        vertical-align: middle;\n",
       "    }\n",
       "\n",
       "    .dataframe tbody tr th {\n",
       "        vertical-align: top;\n",
       "    }\n",
       "\n",
       "    .dataframe thead th {\n",
       "        text-align: right;\n",
       "    }\n",
       "</style>\n",
       "<table border=\"1\" class=\"dataframe\">\n",
       "  <thead>\n",
       "    <tr style=\"text-align: right;\">\n",
       "      <th></th>\n",
       "      <th>CustomerID</th>\n",
       "      <th>Age</th>\n",
       "      <th>Annual Income (k$)</th>\n",
       "      <th>Spending Score (1-100)</th>\n",
       "    </tr>\n",
       "  </thead>\n",
       "  <tbody>\n",
       "    <tr>\n",
       "      <th>0.25</th>\n",
       "      <td>50.75</td>\n",
       "      <td>28.75</td>\n",
       "      <td>41.5</td>\n",
       "      <td>34.75</td>\n",
       "    </tr>\n",
       "    <tr>\n",
       "      <th>0.75</th>\n",
       "      <td>150.25</td>\n",
       "      <td>49.00</td>\n",
       "      <td>78.0</td>\n",
       "      <td>73.00</td>\n",
       "    </tr>\n",
       "  </tbody>\n",
       "</table>\n",
       "</div>"
      ],
      "text/plain": [
       "      CustomerID    Age  Annual Income (k$)  Spending Score (1-100)\n",
       "0.25       50.75  28.75                41.5                   34.75\n",
       "0.75      150.25  49.00                78.0                   73.00"
      ]
     },
     "execution_count": 26,
     "metadata": {},
     "output_type": "execute_result"
    }
   ],
   "source": [
    "quantile = ob.quantile(q = [0.25, 0.75])\n",
    "quantile"
   ]
  },
  {
   "cell_type": "code",
   "execution_count": 27,
   "id": "e8fbfc3e",
   "metadata": {},
   "outputs": [
    {
     "data": {
      "text/plain": [
       "CustomerID                150.25\n",
       "Age                        49.00\n",
       "Annual Income (k$)         78.00\n",
       "Spending Score (1-100)     73.00\n",
       "Name: 0.75, dtype: float64"
      ]
     },
     "execution_count": 27,
     "metadata": {},
     "output_type": "execute_result"
    }
   ],
   "source": [
    "quantile.loc[0.75]"
   ]
  },
  {
   "cell_type": "code",
   "execution_count": 28,
   "id": "9ae3d8ff",
   "metadata": {},
   "outputs": [
    {
     "data": {
      "text/plain": [
       "CustomerID                50.75\n",
       "Age                       28.75\n",
       "Annual Income (k$)        41.50\n",
       "Spending Score (1-100)    34.75\n",
       "Name: 0.25, dtype: float64"
      ]
     },
     "execution_count": 28,
     "metadata": {},
     "output_type": "execute_result"
    }
   ],
   "source": [
    "quantile.loc[0.25]"
   ]
  },
  {
   "cell_type": "code",
   "execution_count": 29,
   "id": "3ea0ea82",
   "metadata": {},
   "outputs": [
    {
     "data": {
      "text/plain": [
       "CustomerID                99.50\n",
       "Age                       20.25\n",
       "Annual Income (k$)        36.50\n",
       "Spending Score (1-100)    38.25\n",
       "dtype: float64"
      ]
     },
     "execution_count": 29,
     "metadata": {},
     "output_type": "execute_result"
    }
   ],
   "source": [
    "IQR = quantile.iloc[1] - quantile.iloc[0]\n",
    "IQR"
   ]
  },
  {
   "cell_type": "code",
   "execution_count": 30,
   "id": "522da0dc",
   "metadata": {},
   "outputs": [
    {
     "data": {
      "text/plain": [
       "CustomerID                299.500\n",
       "Age                        79.375\n",
       "Annual Income (k$)        132.750\n",
       "Spending Score (1-100)    130.375\n",
       "dtype: float64"
      ]
     },
     "execution_count": 30,
     "metadata": {},
     "output_type": "execute_result"
    }
   ],
   "source": [
    "upper = quantile.iloc[1] + (1.5 *IQR)\n",
    "upper"
   ]
  },
  {
   "cell_type": "code",
   "execution_count": 31,
   "id": "f23083d6",
   "metadata": {},
   "outputs": [
    {
     "data": {
      "text/plain": [
       "CustomerID               -98.500\n",
       "Age                       -1.625\n",
       "Annual Income (k$)       -13.250\n",
       "Spending Score (1-100)   -22.625\n",
       "dtype: float64"
      ]
     },
     "execution_count": 31,
     "metadata": {},
     "output_type": "execute_result"
    }
   ],
   "source": [
    "lower = quantile.iloc[0] - (1.5* IQR)\n",
    "lower"
   ]
  },
  {
   "cell_type": "code",
   "execution_count": 32,
   "id": "9fb80d9c",
   "metadata": {},
   "outputs": [
    {
     "name": "stderr",
     "output_type": "stream",
     "text": [
      "C:\\Users\\Sanjana\\AppData\\Local\\Temp\\ipykernel_17032\\602955720.py:1: FutureWarning: Dropping of nuisance columns in DataFrame reductions (with 'numeric_only=None') is deprecated; in a future version this will raise TypeError.  Select only valid columns before calling the reduction.\n",
      "  ob.mean()\n"
     ]
    },
    {
     "data": {
      "text/plain": [
       "CustomerID                100.50\n",
       "Age                        38.85\n",
       "Annual Income (k$)         60.56\n",
       "Spending Score (1-100)     50.20\n",
       "dtype: float64"
      ]
     },
     "execution_count": 32,
     "metadata": {},
     "output_type": "execute_result"
    }
   ],
   "source": [
    "ob.mean()"
   ]
  },
  {
   "cell_type": "code",
   "execution_count": 33,
   "id": "d5e4327b",
   "metadata": {},
   "outputs": [
    {
     "data": {
      "text/plain": [
       "137"
      ]
     },
     "execution_count": 33,
     "metadata": {},
     "output_type": "execute_result"
    }
   ],
   "source": [
    "ob['Annual Income (k$)'].max()"
   ]
  },
  {
   "cell_type": "code",
   "execution_count": 34,
   "id": "a8e3b5e7",
   "metadata": {},
   "outputs": [
    {
     "name": "stderr",
     "output_type": "stream",
     "text": [
      "C:\\Users\\Sanjana\\anaconda3\\lib\\site-packages\\seaborn\\_decorators.py:36: FutureWarning: Pass the following variable as a keyword arg: x. From version 0.12, the only valid positional argument will be `data`, and passing other arguments without an explicit keyword will result in an error or misinterpretation.\n",
      "  warnings.warn(\n"
     ]
    },
    {
     "data": {
      "text/plain": [
       "<AxesSubplot:xlabel='CustomerID'>"
      ]
     },
     "execution_count": 34,
     "metadata": {},
     "output_type": "execute_result"
    },
    {
     "data": {
      "image/png": "[encoded data removed]",
      "text/plain": [
       "<Figure size 432x288 with 1 Axes>"
      ]
     },
     "metadata": {
      "needs_background": "light"
     },
     "output_type": "display_data"
    }
   ],
   "source": [
    "sns.boxplot(ob['CustomerID'])"
   ]
  },
  {
   "cell_type": "code",
   "execution_count": 35,
   "id": "ed61fdc8",
   "metadata": {},
   "outputs": [
    {
     "name": "stderr",
     "output_type": "stream",
     "text": [
      "C:\\Users\\Sanjana\\anaconda3\\lib\\site-packages\\seaborn\\_decorators.py:36: FutureWarning: Pass the following variable as a keyword arg: x. From version 0.12, the only valid positional argument will be `data`, and passing other arguments without an explicit keyword will result in an error or misinterpretation.\n",
      "  warnings.warn(\n"
     ]
    },
    {
     "data": {
      "text/plain": [
       "<AxesSubplot:xlabel='Age'>"
      ]
     },
     "execution_count": 35,
     "metadata": {},
     "output_type": "execute_result"
    },
    {
     "data": {
      "image/png": "[encoded data removed]",
      "text/plain": [
       "<Figure size 432x288 with 1 Axes>"
      ]
     },
     "metadata": {
      "needs_background": "light"
     },
     "output_type": "display_data"
    }
   ],
   "source": [
    "sns.boxplot(ob['Age'])"
   ]
  },
  {
   "cell_type": "code",
   "execution_count": 36,
   "id": "c2d692d0",
   "metadata": {},
   "outputs": [
    {
     "name": "stderr",
     "output_type": "stream",
     "text": [
      "C:\\Users\\Sanjana\\anaconda3\\lib\\site-packages\\seaborn\\_decorators.py:36: FutureWarning: Pass the following variable as a keyword arg: x. From version 0.12, the only valid positional argument will be `data`, and passing other arguments without an explicit keyword will result in an error or misinterpretation.\n",
      "  warnings.warn(\n"
     ]
    },
    {
     "data": {
      "text/plain": [
       "<AxesSubplot:xlabel='Annual Income (k$)'>"
      ]
     },
     "execution_count": 36,
     "metadata": {},
     "output_type": "execute_result"
    },
    {
     "data": {
      "image/png": "[encoded data removed]",
      "text/plain": [
       "<Figure size 432x288 with 1 Axes>"
      ]
     },
     "metadata": {
      "needs_background": "light"
     },
     "output_type": "display_data"
    }
   ],
   "source": [
    "sns.boxplot(ob['Annual Income (k$)'])"
   ]
  },
  {
   "cell_type": "code",
   "execution_count": 37,
   "id": "8da346e8",
   "metadata": {},
   "outputs": [],
   "source": [
    "ob['Annual Income (k$)'] = np.where(ob['Annual Income (k$)'] > 132.750, 60.55, ob['Annual Income (k$)'])"
   ]
  },
  {
   "cell_type": "code",
   "execution_count": 38,
   "id": "8d815145",
   "metadata": {},
   "outputs": [
    {
     "name": "stderr",
     "output_type": "stream",
     "text": [
      "C:\\Users\\Sanjana\\anaconda3\\lib\\site-packages\\seaborn\\_decorators.py:36: FutureWarning: Pass the following variable as a keyword arg: x. From version 0.12, the only valid positional argument will be `data`, and passing other arguments without an explicit keyword will result in an error or misinterpretation.\n",
      "  warnings.warn(\n"
     ]
    },
    {
     "data": {
      "text/plain": [
       "<AxesSubplot:xlabel='Annual Income (k$)'>"
      ]
     },
     "execution_count": 38,
     "metadata": {},
     "output_type": "execute_result"
    },
    {
     "data": {
      "image/png": "[encoded data removed]",
      "text/plain": [
       "<Figure size 432x288 with 1 Axes>"
      ]
     },
     "metadata": {
      "needs_background": "light"
     },
     "output_type": "display_data"
    }
   ],
   "source": [
    "sns.boxplot(ob['Annual Income (k$)'])"
   ]
  },
  {
   "cell_type": "code",
   "execution_count": 39,
   "id": "cf458d0a",
   "metadata": {},
   "outputs": [
    {
     "data": {
      "text/plain": [
       "126.0"
      ]
     },
     "execution_count": 39,
     "metadata": {},
     "output_type": "execute_result"
    }
   ],
   "source": [
    "ob['Annual Income (k$)'].max()"
   ]
  },
  {
   "cell_type": "code",
   "execution_count": 40,
   "id": "5677ed62",
   "metadata": {},
   "outputs": [
    {
     "name": "stderr",
     "output_type": "stream",
     "text": [
      "C:\\Users\\Sanjana\\anaconda3\\lib\\site-packages\\seaborn\\_decorators.py:36: FutureWarning: Pass the following variable as a keyword arg: x. From version 0.12, the only valid positional argument will be `data`, and passing other arguments without an explicit keyword will result in an error or misinterpretation.\n",
      "  warnings.warn(\n"
     ]
    },
    {
     "data": {
      "text/plain": [
       "<AxesSubplot:xlabel='Spending Score (1-100)'>"
      ]
     },
     "execution_count": 40,
     "metadata": {},
     "output_type": "execute_result"
    },
    {
     "data": {
      "image/png": "[encoded data removed]",
      "text/plain": [
       "<Figure size 432x288 with 1 Axes>"
      ]
     },
     "metadata": {
      "needs_background": "light"
     },
     "output_type": "display_data"
    }
   ],
   "source": [
    "sns.boxplot(ob['Spending Score (1-100)'])"
   ]
  },
  {
   "cell_type": "markdown",
   "id": "1bc49b5a",
   "metadata": {},
   "source": [
    "# 7. Check for Categorical columns and perform encoding."
   ]
  },
  {
   "cell_type": "code",
   "execution_count": 41,
   "id": "a465fe44",
   "metadata": {},
   "outputs": [
    {
     "data": {
      "text/plain": [
       "Index(['Gender'], dtype='object')"
      ]
     },
     "execution_count": 41,
     "metadata": {},
     "output_type": "execute_result"
    }
   ],
   "source": [
    "ob.select_dtypes(include='object').columns"
   ]
  },
  {
   "cell_type": "code",
   "execution_count": 42,
   "id": "21491bcf",
   "metadata": {},
   "outputs": [
    {
     "data": {
      "text/plain": [
       "array(['Male', 'Female'], dtype=object)"
      ]
     },
     "execution_count": 42,
     "metadata": {},
     "output_type": "execute_result"
    }
   ],
   "source": [
    "ob['Gender'].unique()"
   ]
  },
  {
   "cell_type": "code",
   "execution_count": 43,
   "id": "5a3821c4",
   "metadata": {},
   "outputs": [
    {
     "data": {
      "text/html": [
       "<div>\n",
       "<style scoped>\n",
       "    .dataframe tbody tr th:only-of-type {\n",
       "        vertical-align: middle;\n",
       "    }\n",
       "\n",
       "    .dataframe tbody tr th {\n",
       "        vertical-align: top;\n",
       "    }\n",
       "\n",
       "    .dataframe thead th {\n",
       "        text-align: right;\n",
       "    }\n",
       "</style>\n",
       "<table border=\"1\" class=\"dataframe\">\n",
       "  <thead>\n",
       "    <tr style=\"text-align: right;\">\n",
       "      <th></th>\n",
       "      <th>CustomerID</th>\n",
       "      <th>Gender</th>\n",
       "      <th>Age</th>\n",
       "      <th>Annual Income (k$)</th>\n",
       "      <th>Spending Score (1-100)</th>\n",
       "    </tr>\n",
       "  </thead>\n",
       "  <tbody>\n",
       "    <tr>\n",
       "      <th>0</th>\n",
       "      <td>1</td>\n",
       "      <td>1</td>\n",
       "      <td>19</td>\n",
       "      <td>15.00</td>\n",
       "      <td>39</td>\n",
       "    </tr>\n",
       "    <tr>\n",
       "      <th>1</th>\n",
       "      <td>2</td>\n",
       "      <td>1</td>\n",
       "      <td>21</td>\n",
       "      <td>15.00</td>\n",
       "      <td>81</td>\n",
       "    </tr>\n",
       "    <tr>\n",
       "      <th>2</th>\n",
       "      <td>3</td>\n",
       "      <td>0</td>\n",
       "      <td>20</td>\n",
       "      <td>16.00</td>\n",
       "      <td>6</td>\n",
       "    </tr>\n",
       "    <tr>\n",
       "      <th>3</th>\n",
       "      <td>4</td>\n",
       "      <td>0</td>\n",
       "      <td>23</td>\n",
       "      <td>16.00</td>\n",
       "      <td>77</td>\n",
       "    </tr>\n",
       "    <tr>\n",
       "      <th>4</th>\n",
       "      <td>5</td>\n",
       "      <td>0</td>\n",
       "      <td>31</td>\n",
       "      <td>17.00</td>\n",
       "      <td>40</td>\n",
       "    </tr>\n",
       "    <tr>\n",
       "      <th>...</th>\n",
       "      <td>...</td>\n",
       "      <td>...</td>\n",
       "      <td>...</td>\n",
       "      <td>...</td>\n",
       "      <td>...</td>\n",
       "    </tr>\n",
       "    <tr>\n",
       "      <th>195</th>\n",
       "      <td>196</td>\n",
       "      <td>0</td>\n",
       "      <td>35</td>\n",
       "      <td>120.00</td>\n",
       "      <td>79</td>\n",
       "    </tr>\n",
       "    <tr>\n",
       "      <th>196</th>\n",
       "      <td>197</td>\n",
       "      <td>0</td>\n",
       "      <td>45</td>\n",
       "      <td>126.00</td>\n",
       "      <td>28</td>\n",
       "    </tr>\n",
       "    <tr>\n",
       "      <th>197</th>\n",
       "      <td>198</td>\n",
       "      <td>1</td>\n",
       "      <td>32</td>\n",
       "      <td>126.00</td>\n",
       "      <td>74</td>\n",
       "    </tr>\n",
       "    <tr>\n",
       "      <th>198</th>\n",
       "      <td>199</td>\n",
       "      <td>1</td>\n",
       "      <td>32</td>\n",
       "      <td>60.55</td>\n",
       "      <td>18</td>\n",
       "    </tr>\n",
       "    <tr>\n",
       "      <th>199</th>\n",
       "      <td>200</td>\n",
       "      <td>1</td>\n",
       "      <td>30</td>\n",
       "      <td>60.55</td>\n",
       "      <td>83</td>\n",
       "    </tr>\n",
       "  </tbody>\n",
       "</table>\n",
       "<p>200 rows × 5 columns</p>\n",
       "</div>"
      ],
      "text/plain": [
       "     CustomerID  Gender  Age  Annual Income (k$)  Spending Score (1-100)\n",
       "0             1       1   19               15.00                      39\n",
       "1             2       1   21               15.00                      81\n",
       "2             3       0   20               16.00                       6\n",
       "3             4       0   23               16.00                      77\n",
       "4             5       0   31               17.00                      40\n",
       "..          ...     ...  ...                 ...                     ...\n",
       "195         196       0   35              120.00                      79\n",
       "196         197       0   45              126.00                      28\n",
       "197         198       1   32              126.00                      74\n",
       "198         199       1   32               60.55                      18\n",
       "199         200       1   30               60.55                      83\n",
       "\n",
       "[200 rows x 5 columns]"
      ]
     },
     "execution_count": 43,
     "metadata": {},
     "output_type": "execute_result"
    }
   ],
   "source": [
    "ob['Gender'].replace({'Male':1,'Female':0},inplace=True)\n",
    "ob"
   ]
  },
  {
   "cell_type": "code",
   "execution_count": 44,
   "id": "abf8a4c9",
   "metadata": {},
   "outputs": [
    {
     "data": {
      "text/html": [
       "<div>\n",
       "<style scoped>\n",
       "    .dataframe tbody tr th:only-of-type {\n",
       "        vertical-align: middle;\n",
       "    }\n",
       "\n",
       "    .dataframe tbody tr th {\n",
       "        vertical-align: top;\n",
       "    }\n",
       "\n",
       "    .dataframe thead th {\n",
       "        text-align: right;\n",
       "    }\n",
       "</style>\n",
       "<table border=\"1\" class=\"dataframe\">\n",
       "  <thead>\n",
       "    <tr style=\"text-align: right;\">\n",
       "      <th></th>\n",
       "      <th>CustomerID</th>\n",
       "      <th>Gender</th>\n",
       "      <th>Age</th>\n",
       "      <th>Annual Income (k$)</th>\n",
       "      <th>Spending Score (1-100)</th>\n",
       "    </tr>\n",
       "  </thead>\n",
       "  <tbody>\n",
       "    <tr>\n",
       "      <th>0</th>\n",
       "      <td>1</td>\n",
       "      <td>1</td>\n",
       "      <td>19</td>\n",
       "      <td>15.0</td>\n",
       "      <td>39</td>\n",
       "    </tr>\n",
       "    <tr>\n",
       "      <th>1</th>\n",
       "      <td>2</td>\n",
       "      <td>1</td>\n",
       "      <td>21</td>\n",
       "      <td>15.0</td>\n",
       "      <td>81</td>\n",
       "    </tr>\n",
       "    <tr>\n",
       "      <th>2</th>\n",
       "      <td>3</td>\n",
       "      <td>0</td>\n",
       "      <td>20</td>\n",
       "      <td>16.0</td>\n",
       "      <td>6</td>\n",
       "    </tr>\n",
       "    <tr>\n",
       "      <th>3</th>\n",
       "      <td>4</td>\n",
       "      <td>0</td>\n",
       "      <td>23</td>\n",
       "      <td>16.0</td>\n",
       "      <td>77</td>\n",
       "    </tr>\n",
       "    <tr>\n",
       "      <th>4</th>\n",
       "      <td>5</td>\n",
       "      <td>0</td>\n",
       "      <td>31</td>\n",
       "      <td>17.0</td>\n",
       "      <td>40</td>\n",
       "    </tr>\n",
       "  </tbody>\n",
       "</table>\n",
       "</div>"
      ],
      "text/plain": [
       "   CustomerID  Gender  Age  Annual Income (k$)  Spending Score (1-100)\n",
       "0           1       1   19                15.0                      39\n",
       "1           2       1   21                15.0                      81\n",
       "2           3       0   20                16.0                       6\n",
       "3           4       0   23                16.0                      77\n",
       "4           5       0   31                17.0                      40"
      ]
     },
     "execution_count": 44,
     "metadata": {},
     "output_type": "execute_result"
    }
   ],
   "source": [
    "ob.head()"
   ]
  },
  {
   "cell_type": "markdown",
   "id": "6b3fc1b0",
   "metadata": {},
   "source": [
    "# 8. Scaling the data"
   ]
  },
  {
   "cell_type": "code",
   "execution_count": 45,
   "id": "0a20c0c1",
   "metadata": {},
   "outputs": [
    {
     "data": {
      "text/plain": [
       "array([[-1.7234121 ,  1.12815215, -1.42456879, -1.78843062, -0.43480148],\n",
       "       [-1.70609137,  1.12815215, -1.28103541, -1.78843062,  1.19570407],\n",
       "       [-1.68877065, -0.88640526, -1.3528021 , -1.74850629, -1.71591298],\n",
       "       [-1.67144992, -0.88640526, -1.13750203, -1.74850629,  1.04041783],\n",
       "       [-1.6541292 , -0.88640526, -0.56336851, -1.70858195, -0.39597992],\n",
       "       [-1.63680847, -0.88640526, -1.20926872, -1.70858195,  1.00159627],\n",
       "       [-1.61948775, -0.88640526, -0.27630176, -1.66865761, -1.71591298],\n",
       "       [-1.60216702, -0.88640526, -1.13750203, -1.66865761,  1.70038436],\n",
       "       [-1.5848463 ,  1.12815215,  1.80493225, -1.62873328, -1.83237767],\n",
       "       [-1.56752558, -0.88640526, -0.6351352 , -1.62873328,  0.84631002],\n",
       "       [-1.55020485,  1.12815215,  2.02023231, -1.62873328, -1.4053405 ],\n",
       "       [-1.53288413, -0.88640526, -0.27630176, -1.62873328,  1.89449216],\n",
       "       [-1.5155634 , -0.88640526,  1.37433211, -1.58880894, -1.36651894],\n",
       "       [-1.49824268, -0.88640526, -1.06573534, -1.58880894,  1.04041783],\n",
       "       [-1.48092195,  1.12815215, -0.13276838, -1.58880894, -1.44416206],\n",
       "       [-1.46360123,  1.12815215, -1.20926872, -1.58880894,  1.11806095],\n",
       "       [-1.4462805 , -0.88640526, -0.27630176, -1.5488846 , -0.59008772],\n",
       "       [-1.42895978,  1.12815215, -1.3528021 , -1.5488846 ,  0.61338066],\n",
       "       [-1.41163905,  1.12815215,  0.94373197, -1.46903593, -0.82301709],\n",
       "       [-1.39431833, -0.88640526, -0.27630176, -1.46903593,  1.8556706 ],\n",
       "       [-1.3769976 ,  1.12815215, -0.27630176, -1.42911159, -0.59008772],\n",
       "       [-1.35967688,  1.12815215, -0.99396865, -1.42911159,  0.88513158],\n",
       "       [-1.34235616, -0.88640526,  0.51313183, -1.38918726, -1.75473454],\n",
       "       [-1.32503543,  1.12815215, -0.56336851, -1.38918726,  0.88513158],\n",
       "       [-1.30771471, -0.88640526,  1.08726535, -1.26941425, -1.4053405 ],\n",
       "       [-1.29039398,  1.12815215, -0.70690189, -1.26941425,  1.23452563],\n",
       "       [-1.27307326, -0.88640526,  0.44136514, -1.26941425, -0.7065524 ],\n",
       "       [-1.25575253,  1.12815215, -0.27630176, -1.26941425,  0.41927286],\n",
       "       [-1.23843181, -0.88640526,  0.08253169, -1.22948991, -0.74537397],\n",
       "       [-1.22111108, -0.88640526, -1.13750203, -1.22948991,  1.42863343],\n",
       "       [-1.20379036,  1.12815215,  1.51786549, -1.18956557, -1.7935561 ],\n",
       "       [-1.18646963, -0.88640526, -1.28103541, -1.18956557,  0.88513158],\n",
       "       [-1.16914891,  1.12815215,  1.01549866, -1.06979256, -1.7935561 ],\n",
       "       [-1.15182818,  1.12815215, -1.49633548, -1.06979256,  1.62274124],\n",
       "       [-1.13450746, -0.88640526,  0.7284319 , -1.06979256, -1.4053405 ],\n",
       "       [-1.11718674, -0.88640526, -1.28103541, -1.06979256,  1.19570407],\n",
       "       [-1.09986601, -0.88640526,  0.22606507, -1.02986823, -1.28887582],\n",
       "       [-1.08254529, -0.88640526, -0.6351352 , -1.02986823,  0.88513158],\n",
       "       [-1.06522456, -0.88640526, -0.20453507, -0.91009522, -0.93948177],\n",
       "       [-1.04790384, -0.88640526, -1.3528021 , -0.91009522,  0.96277471],\n",
       "       [-1.03058311, -0.88640526,  1.87669894, -0.87017088, -0.59008772],\n",
       "       [-1.01326239,  1.12815215, -1.06573534, -0.87017088,  1.62274124],\n",
       "       [-0.99594166,  1.12815215,  0.65666521, -0.83024654, -0.55126616],\n",
       "       [-0.97862094, -0.88640526, -0.56336851, -0.83024654,  0.41927286],\n",
       "       [-0.96130021, -0.88640526,  0.7284319 , -0.83024654, -0.86183865],\n",
       "       [-0.94397949, -0.88640526, -1.06573534, -0.83024654,  0.5745591 ],\n",
       "       [-0.92665877, -0.88640526,  0.80019859, -0.79032221,  0.18634349],\n",
       "       [-0.90933804, -0.88640526, -0.85043527, -0.79032221, -0.12422899],\n",
       "       [-0.89201732, -0.88640526, -0.70690189, -0.79032221, -0.3183368 ],\n",
       "       [-0.87469659, -0.88640526, -0.56336851, -0.79032221, -0.3183368 ],\n",
       "       [-0.85737587, -0.88640526,  0.7284319 , -0.71047353,  0.06987881],\n",
       "       [-0.84005514,  1.12815215, -0.41983513, -0.71047353,  0.38045129],\n",
       "       [-0.82273442, -0.88640526, -0.56336851, -0.6705492 ,  0.14752193],\n",
       "       [-0.80541369,  1.12815215,  1.4460988 , -0.6705492 ,  0.38045129],\n",
       "       [-0.78809297, -0.88640526,  0.80019859, -0.6705492 , -0.20187212],\n",
       "       [-0.77077224,  1.12815215,  0.58489852, -0.6705492 , -0.35715836],\n",
       "       [-0.75345152, -0.88640526,  0.87196528, -0.63062486, -0.00776431],\n",
       "       [-0.73613079,  1.12815215,  2.16376569, -0.63062486, -0.16305055],\n",
       "       [-0.71881007, -0.88640526, -0.85043527, -0.55077619,  0.03105725],\n",
       "       [-0.70148935,  1.12815215,  1.01549866, -0.55077619, -0.16305055],\n",
       "       [-0.68416862,  1.12815215,  2.23553238, -0.55077619,  0.22516505],\n",
       "       [-0.6668479 ,  1.12815215, -1.42456879, -0.55077619,  0.18634349],\n",
       "       [-0.64952717, -0.88640526,  2.02023231, -0.51085185,  0.06987881],\n",
       "       [-0.63220645, -0.88640526,  1.08726535, -0.51085185,  0.34162973],\n",
       "       [-0.61488572,  1.12815215,  1.73316556, -0.47092751,  0.03105725],\n",
       "       [-0.597565  ,  1.12815215, -1.49633548, -0.47092751,  0.34162973],\n",
       "       [-0.58024427, -0.88640526,  0.29783176, -0.47092751, -0.00776431],\n",
       "       [-0.56292355, -0.88640526,  2.091999  , -0.47092751, -0.08540743],\n",
       "       [-0.54560282,  1.12815215, -1.42456879, -0.47092751,  0.34162973],\n",
       "       [-0.5282821 , -0.88640526, -0.49160182, -0.47092751, -0.12422899],\n",
       "       [-0.51096138,  1.12815215,  2.23553238, -0.43100318,  0.18634349],\n",
       "       [-0.49364065, -0.88640526,  0.58489852, -0.43100318, -0.3183368 ],\n",
       "       [-0.47631993, -0.88640526,  1.51786549, -0.39107884, -0.04658587],\n",
       "       [-0.4589992 , -0.88640526,  1.51786549, -0.39107884,  0.22516505],\n",
       "       [-0.44167848,  1.12815215,  1.4460988 , -0.23138149, -0.12422899],\n",
       "       [-0.42435775,  1.12815215, -0.92220196, -0.23138149,  0.14752193],\n",
       "       [-0.40703703, -0.88640526,  0.44136514, -0.23138149,  0.10870037],\n",
       "       [-0.3897163 ,  1.12815215,  0.08253169, -0.23138149, -0.08540743],\n",
       "       [-0.37239558, -0.88640526, -1.13750203, -0.23138149,  0.06987881],\n",
       "       [-0.35507485, -0.88640526,  0.7284319 , -0.23138149, -0.3183368 ],\n",
       "       [-0.33775413,  1.12815215,  1.30256542, -0.23138149,  0.03105725],\n",
       "       [-0.3204334 ,  1.12815215, -0.06100169, -0.23138149,  0.18634349],\n",
       "       [-0.30311268,  1.12815215,  2.02023231, -0.23138149, -0.35715836],\n",
       "       [-0.28579196, -0.88640526,  0.51313183, -0.23138149, -0.24069368],\n",
       "       [-0.26847123, -0.88640526, -1.28103541, -0.23138149,  0.26398661],\n",
       "       [-0.25115051,  1.12815215,  0.65666521, -0.23138149, -0.16305055],\n",
       "       [-0.23382978, -0.88640526,  1.15903204, -0.11160848,  0.30280817],\n",
       "       [-0.21650906, -0.88640526, -1.20926872, -0.11160848,  0.18634349],\n",
       "       [-0.19918833, -0.88640526, -0.34806844, -0.07168415,  0.38045129],\n",
       "       [-0.18186761, -0.88640526,  0.80019859, -0.07168415, -0.16305055],\n",
       "       [-0.16454688, -0.88640526,  2.091999  , -0.03175981,  0.18634349],\n",
       "       [-0.14722616,  1.12815215, -1.49633548, -0.03175981, -0.35715836],\n",
       "       [-0.12990543,  1.12815215,  0.65666521,  0.00816453, -0.04658587],\n",
       "       [-0.11258471, -0.88640526,  0.08253169,  0.00816453, -0.39597992],\n",
       "       [-0.09526399, -0.88640526, -0.49160182,  0.00816453, -0.3183368 ],\n",
       "       [-0.07794326,  1.12815215, -1.06573534,  0.00816453,  0.06987881],\n",
       "       [-0.06062254, -0.88640526,  0.58489852,  0.00816453, -0.12422899],\n",
       "       [-0.04330181, -0.88640526, -0.85043527,  0.00816453, -0.00776431],\n",
       "       [-0.02598109,  1.12815215,  0.65666521,  0.04808886, -0.3183368 ],\n",
       "       [-0.00866036,  1.12815215, -1.3528021 ,  0.04808886, -0.04658587],\n",
       "       [ 0.00866036, -0.88640526, -1.13750203,  0.0880132 , -0.35715836],\n",
       "       [ 0.02598109, -0.88640526,  0.7284319 ,  0.0880132 , -0.08540743],\n",
       "       [ 0.04330181,  1.12815215,  2.02023231,  0.0880132 ,  0.34162973],\n",
       "       [ 0.06062254,  1.12815215, -0.92220196,  0.0880132 ,  0.18634349],\n",
       "       [ 0.07794326,  1.12815215,  0.7284319 ,  0.0880132 ,  0.22516505],\n",
       "       [ 0.09526399, -0.88640526, -1.28103541,  0.0880132 , -0.3183368 ],\n",
       "       [ 0.11258471, -0.88640526,  1.94846562,  0.12793754, -0.00776431],\n",
       "       [ 0.12990543,  1.12815215,  1.08726535,  0.12793754, -0.16305055],\n",
       "       [ 0.14722616,  1.12815215,  2.091999  ,  0.12793754, -0.27951524],\n",
       "       [ 0.16454688,  1.12815215,  1.94846562,  0.12793754, -0.08540743],\n",
       "       [ 0.18186761,  1.12815215,  1.87669894,  0.12793754,  0.06987881],\n",
       "       [ 0.19918833, -0.88640526, -1.42456879,  0.12793754,  0.14752193],\n",
       "       [ 0.21650906, -0.88640526, -0.06100169,  0.16786187, -0.3183368 ],\n",
       "       [ 0.23382978,  1.12815215, -1.42456879,  0.16786187, -0.16305055],\n",
       "       [ 0.25115051, -0.88640526, -1.49633548,  0.20778621, -0.08540743],\n",
       "       [ 0.26847123, -0.88640526, -1.42456879,  0.20778621, -0.00776431],\n",
       "       [ 0.28579196, -0.88640526,  1.73316556,  0.20778621, -0.27951524],\n",
       "       [ 0.30311268, -0.88640526,  0.7284319 ,  0.20778621,  0.34162973],\n",
       "       [ 0.3204334 , -0.88640526,  0.87196528,  0.28763488, -0.27951524],\n",
       "       [ 0.33775413, -0.88640526,  0.80019859,  0.28763488,  0.26398661],\n",
       "       [ 0.35507485,  1.12815215, -0.85043527,  0.28763488,  0.22516505],\n",
       "       [ 0.37239558, -0.88640526, -0.06100169,  0.28763488, -0.39597992],\n",
       "       [ 0.3897163 , -0.88640526,  0.08253169,  0.36748356,  0.30280817],\n",
       "       [ 0.40703703,  1.12815215,  0.010765  ,  0.36748356,  1.58391968],\n",
       "       [ 0.42435775, -0.88640526, -1.13750203,  0.40740789, -0.82301709],\n",
       "       [ 0.44167848, -0.88640526, -0.56336851,  0.40740789,  1.04041783],\n",
       "       [ 0.4589992 ,  1.12815215,  0.29783176,  0.44733223, -0.59008772],\n",
       "       [ 0.47631993,  1.12815215,  0.08253169,  0.44733223,  1.73920592],\n",
       "       [ 0.49364065,  1.12815215,  1.4460988 ,  0.44733223, -1.52180518],\n",
       "       [ 0.51096138,  1.12815215, -0.06100169,  0.44733223,  0.96277471],\n",
       "       [ 0.5282821 ,  1.12815215,  0.58489852,  0.44733223, -1.5994483 ],\n",
       "       [ 0.54560282,  1.12815215,  0.010765  ,  0.44733223,  0.96277471],\n",
       "       [ 0.56292355, -0.88640526, -0.99396865,  0.48725657, -0.62890928],\n",
       "       [ 0.58024427, -0.88640526, -0.56336851,  0.48725657,  0.80748846],\n",
       "       [ 0.597565  ,  1.12815215, -1.3528021 ,  0.5271809 , -1.75473454],\n",
       "       [ 0.61488572, -0.88640526, -0.70690189,  0.5271809 ,  1.46745499],\n",
       "       [ 0.63220645, -0.88640526,  0.36959845,  0.5271809 , -1.67709142],\n",
       "       [ 0.64952717,  1.12815215, -0.49160182,  0.5271809 ,  0.88513158],\n",
       "       [ 0.6668479 ,  1.12815215, -1.42456879,  0.56710524, -1.56062674],\n",
       "       [ 0.68416862, -0.88640526, -0.27630176,  0.56710524,  0.84631002],\n",
       "       [ 0.70148935, -0.88640526,  1.30256542,  0.60702958, -1.75473454],\n",
       "       [ 0.71881007,  1.12815215, -0.49160182,  0.60702958,  1.6615628 ],\n",
       "       [ 0.73613079, -0.88640526, -0.77866858,  0.64695391, -0.39597992],\n",
       "       [ 0.75345152, -0.88640526, -0.49160182,  0.64695391,  1.42863343],\n",
       "       [ 0.77077224,  1.12815215, -0.99396865,  0.68687825, -1.48298362],\n",
       "       [ 0.78809297,  1.12815215, -0.77866858,  0.68687825,  1.81684904],\n",
       "       [ 0.80541369,  1.12815215,  0.65666521,  0.68687825, -0.55126616],\n",
       "       [ 0.82273442, -0.88640526, -0.49160182,  0.68687825,  0.92395314],\n",
       "       [ 0.84005514, -0.88640526, -0.34806844,  0.72680259, -1.09476801],\n",
       "       [ 0.85737587,  1.12815215, -0.34806844,  0.72680259,  1.54509812],\n",
       "       [ 0.87469659,  1.12815215,  0.29783176,  0.72680259, -1.28887582],\n",
       "       [ 0.89201732,  1.12815215,  0.010765  ,  0.72680259,  1.46745499],\n",
       "       [ 0.90933804, -0.88640526,  0.36959845,  0.72680259, -1.17241113],\n",
       "       [ 0.92665877, -0.88640526, -0.06100169,  0.72680259,  1.00159627],\n",
       "       [ 0.94397949, -0.88640526,  0.58489852,  0.72680259, -1.32769738],\n",
       "       [ 0.96130021, -0.88640526, -0.85043527,  0.72680259,  1.50627656],\n",
       "       [ 0.97862094,  1.12815215, -0.13276838,  0.72680259, -1.91002079],\n",
       "       [ 0.99594166, -0.88640526, -0.6351352 ,  0.72680259,  1.07923939],\n",
       "       [ 1.01326239,  1.12815215, -0.34806844,  0.72680259, -1.91002079],\n",
       "       [ 1.03058311, -0.88640526, -0.6351352 ,  0.72680259,  0.88513158],\n",
       "       [ 1.04790384, -0.88640526,  1.23079873,  0.76672692, -0.59008772],\n",
       "       [ 1.06522456, -0.88640526, -0.70690189,  0.76672692,  1.27334719],\n",
       "       [ 1.08254529,  1.12815215, -1.42456879,  0.8465756 , -1.75473454],\n",
       "       [ 1.09986601, -0.88640526, -0.56336851,  0.8465756 ,  1.6615628 ],\n",
       "       [ 1.11718674,  1.12815215,  0.80019859,  1.00627294, -0.93948177],\n",
       "       [ 1.13450746, -0.88640526, -0.20453507,  1.00627294,  0.96277471],\n",
       "       [ 1.15182818,  1.12815215,  0.22606507,  1.04619728, -1.17241113],\n",
       "       [ 1.16914891, -0.88640526, -0.41983513,  1.04619728,  1.73920592],\n",
       "       [ 1.18646963, -0.88640526, -0.20453507,  1.08612162, -0.90066021],\n",
       "       [ 1.20379036,  1.12815215, -0.49160182,  1.08612162,  0.49691598],\n",
       "       [ 1.22111108,  1.12815215,  0.08253169,  1.08612162, -1.44416206],\n",
       "       [ 1.23843181,  1.12815215, -0.77866858,  1.08612162,  0.96277471],\n",
       "       [ 1.25575253,  1.12815215, -0.20453507,  1.08612162, -1.56062674],\n",
       "       [ 1.27307326,  1.12815215, -0.20453507,  1.08612162,  1.62274124],\n",
       "       [ 1.29039398, -0.88640526,  0.94373197,  1.12604595, -1.44416206],\n",
       "       [ 1.30771471, -0.88640526, -0.6351352 ,  1.12604595,  1.38981187],\n",
       "       [ 1.32503543,  1.12815215,  1.37433211,  1.12604595, -1.36651894],\n",
       "       [ 1.34235616,  1.12815215, -0.85043527,  1.12604595,  0.72984534],\n",
       "       [ 1.35967688,  1.12815215,  1.4460988 ,  1.32566764, -1.4053405 ],\n",
       "       [ 1.3769976 ,  1.12815215, -0.27630176,  1.32566764,  1.54509812],\n",
       "       [ 1.39431833, -0.88640526, -0.13276838,  1.48536498, -0.7065524 ],\n",
       "       [ 1.41163905, -0.88640526, -0.49160182,  1.48536498,  1.38981187],\n",
       "       [ 1.42895978,  1.12815215,  0.51313183,  1.52528932, -1.36651894],\n",
       "       [ 1.4462805 , -0.88640526, -0.70690189,  1.52528932,  1.46745499],\n",
       "       [ 1.46360123, -0.88640526,  0.15429838,  1.56521366, -0.43480148],\n",
       "       [ 1.48092195,  1.12815215, -0.6351352 ,  1.56521366,  1.81684904],\n",
       "       [ 1.49824268, -0.88640526,  1.08726535,  1.64506233, -1.01712489],\n",
       "       [ 1.5155634 ,  1.12815215, -0.77866858,  1.64506233,  0.69102378],\n",
       "       [ 1.53288413, -0.88640526,  0.15429838,  1.724911  , -1.28887582],\n",
       "       [ 1.55020485, -0.88640526, -0.20453507,  1.724911  ,  1.35099031],\n",
       "       [ 1.56752558, -0.88640526, -0.34806844,  1.724911  , -1.05594645],\n",
       "       [ 1.5848463 , -0.88640526, -0.49160182,  1.724911  ,  0.72984534],\n",
       "       [ 1.60216702,  1.12815215, -0.41983513,  2.12415437, -1.63826986],\n",
       "       [ 1.61948775, -0.88640526, -0.06100169,  2.12415437,  1.58391968],\n",
       "       [ 1.63680847, -0.88640526,  0.58489852,  2.40362473, -1.32769738],\n",
       "       [ 1.6541292 , -0.88640526, -0.27630176,  2.40362473,  1.11806095],\n",
       "       [ 1.67144992, -0.88640526,  0.44136514,  2.64317075, -0.86183865],\n",
       "       [ 1.68877065,  1.12815215, -0.49160182,  2.64317075,  0.92395314],\n",
       "       [ 1.70609137,  1.12815215, -0.49160182,  0.03012291, -1.25005425],\n",
       "       [ 1.7234121 ,  1.12815215, -0.6351352 ,  0.03012291,  1.27334719]])"
      ]
     },
     "execution_count": 45,
     "metadata": {},
     "output_type": "execute_result"
    }
   ],
   "source": [
    "from sklearn.preprocessing import  StandardScaler\n",
    "ss = StandardScaler().fit_transform(ob)\n",
    "ss"
   ]
  },
  {
   "cell_type": "markdown",
   "id": "33dfe04f",
   "metadata": {},
   "source": [
    "# 9. Perform any of the clustering algorithms"
   ]
  },
  {
   "cell_type": "code",
   "execution_count": 46,
   "id": "fa6ac868",
   "metadata": {},
   "outputs": [
    {
     "data": {
      "text/plain": [
       "[381507.64738523855,\n",
       " 268024.531282868,\n",
       " 191550.0862767094,\n",
       " 153339.87880450324,\n",
       " 119166.15727643928,\n",
       " 101361.60791924558,\n",
       " 85743.0829837341]"
      ]
     },
     "execution_count": 46,
     "metadata": {},
     "output_type": "execute_result"
    }
   ],
   "source": [
    "from sklearn.cluster import KMeans\n",
    "TWSS = []\n",
    "k = list(range(2,9))\n",
    "\n",
    "for i in k:\n",
    "  kmeans = KMeans(n_clusters = i , init = 'k-means++')\n",
    "  kmeans.fit(ob)\n",
    "  TWSS.append(kmeans.inertia_)\n",
    "TWSS"
   ]
  },
  {
   "cell_type": "code",
   "execution_count": 47,
   "id": "ba17ea49",
   "metadata": {},
   "outputs": [
    {
     "data": {
      "text/plain": [
       "Text(0, 0.5, 'TWSS')"
      ]
     },
     "execution_count": 47,
     "metadata": {},
     "output_type": "execute_result"
    },
    {
     "data": {
      "image/png": "[encoded data removed]",
      "text/plain": [
       "<Figure size 432x288 with 1 Axes>"
      ]
     },
     "metadata": {
      "needs_background": "light"
     },
     "output_type": "display_data"
    }
   ],
   "source": [
    "plt.plot(k,TWSS, 'ro--')\n",
    "plt.xlabel('no of cluster')\n",
    "plt.ylabel('TWSS')"
   ]
  },
  {
   "cell_type": "code",
   "execution_count": 48,
   "id": "1edc2741",
   "metadata": {},
   "outputs": [
    {
     "data": {
      "text/plain": [
       "KMeans(n_clusters=4)"
      ]
     },
     "execution_count": 48,
     "metadata": {},
     "output_type": "execute_result"
    }
   ],
   "source": [
    "model = KMeans(n_clusters = 4)\n",
    "model.fit(ob)"
   ]
  },
  {
   "cell_type": "code",
   "execution_count": 49,
   "id": "38143f45",
   "metadata": {},
   "outputs": [
    {
     "data": {
      "text/html": [
       "<div>\n",
       "<style scoped>\n",
       "    .dataframe tbody tr th:only-of-type {\n",
       "        vertical-align: middle;\n",
       "    }\n",
       "\n",
       "    .dataframe tbody tr th {\n",
       "        vertical-align: top;\n",
       "    }\n",
       "\n",
       "    .dataframe thead th {\n",
       "        text-align: right;\n",
       "    }\n",
       "</style>\n",
       "<table border=\"1\" class=\"dataframe\">\n",
       "  <thead>\n",
       "    <tr style=\"text-align: right;\">\n",
       "      <th></th>\n",
       "      <th>CustomerID</th>\n",
       "      <th>Gender</th>\n",
       "      <th>Age</th>\n",
       "      <th>Annual Income (k$)</th>\n",
       "      <th>Spending Score (1-100)</th>\n",
       "      <th>Cluster</th>\n",
       "    </tr>\n",
       "  </thead>\n",
       "  <tbody>\n",
       "    <tr>\n",
       "      <th>0</th>\n",
       "      <td>1</td>\n",
       "      <td>1</td>\n",
       "      <td>19</td>\n",
       "      <td>15.00</td>\n",
       "      <td>39</td>\n",
       "      <td>1</td>\n",
       "    </tr>\n",
       "    <tr>\n",
       "      <th>1</th>\n",
       "      <td>2</td>\n",
       "      <td>1</td>\n",
       "      <td>21</td>\n",
       "      <td>15.00</td>\n",
       "      <td>81</td>\n",
       "      <td>1</td>\n",
       "    </tr>\n",
       "    <tr>\n",
       "      <th>2</th>\n",
       "      <td>3</td>\n",
       "      <td>0</td>\n",
       "      <td>20</td>\n",
       "      <td>16.00</td>\n",
       "      <td>6</td>\n",
       "      <td>1</td>\n",
       "    </tr>\n",
       "    <tr>\n",
       "      <th>3</th>\n",
       "      <td>4</td>\n",
       "      <td>0</td>\n",
       "      <td>23</td>\n",
       "      <td>16.00</td>\n",
       "      <td>77</td>\n",
       "      <td>1</td>\n",
       "    </tr>\n",
       "    <tr>\n",
       "      <th>4</th>\n",
       "      <td>5</td>\n",
       "      <td>0</td>\n",
       "      <td>31</td>\n",
       "      <td>17.00</td>\n",
       "      <td>40</td>\n",
       "      <td>1</td>\n",
       "    </tr>\n",
       "    <tr>\n",
       "      <th>...</th>\n",
       "      <td>...</td>\n",
       "      <td>...</td>\n",
       "      <td>...</td>\n",
       "      <td>...</td>\n",
       "      <td>...</td>\n",
       "      <td>...</td>\n",
       "    </tr>\n",
       "    <tr>\n",
       "      <th>195</th>\n",
       "      <td>196</td>\n",
       "      <td>0</td>\n",
       "      <td>35</td>\n",
       "      <td>120.00</td>\n",
       "      <td>79</td>\n",
       "      <td>2</td>\n",
       "    </tr>\n",
       "    <tr>\n",
       "      <th>196</th>\n",
       "      <td>197</td>\n",
       "      <td>0</td>\n",
       "      <td>45</td>\n",
       "      <td>126.00</td>\n",
       "      <td>28</td>\n",
       "      <td>0</td>\n",
       "    </tr>\n",
       "    <tr>\n",
       "      <th>197</th>\n",
       "      <td>198</td>\n",
       "      <td>1</td>\n",
       "      <td>32</td>\n",
       "      <td>126.00</td>\n",
       "      <td>74</td>\n",
       "      <td>2</td>\n",
       "    </tr>\n",
       "    <tr>\n",
       "      <th>198</th>\n",
       "      <td>199</td>\n",
       "      <td>1</td>\n",
       "      <td>32</td>\n",
       "      <td>60.55</td>\n",
       "      <td>18</td>\n",
       "      <td>0</td>\n",
       "    </tr>\n",
       "    <tr>\n",
       "      <th>199</th>\n",
       "      <td>200</td>\n",
       "      <td>1</td>\n",
       "      <td>30</td>\n",
       "      <td>60.55</td>\n",
       "      <td>83</td>\n",
       "      <td>2</td>\n",
       "    </tr>\n",
       "  </tbody>\n",
       "</table>\n",
       "<p>200 rows × 6 columns</p>\n",
       "</div>"
      ],
      "text/plain": [
       "     CustomerID  Gender  Age  Annual Income (k$)  Spending Score (1-100)  \\\n",
       "0             1       1   19               15.00                      39   \n",
       "1             2       1   21               15.00                      81   \n",
       "2             3       0   20               16.00                       6   \n",
       "3             4       0   23               16.00                      77   \n",
       "4             5       0   31               17.00                      40   \n",
       "..          ...     ...  ...                 ...                     ...   \n",
       "195         196       0   35              120.00                      79   \n",
       "196         197       0   45              126.00                      28   \n",
       "197         198       1   32              126.00                      74   \n",
       "198         199       1   32               60.55                      18   \n",
       "199         200       1   30               60.55                      83   \n",
       "\n",
       "     Cluster  \n",
       "0          1  \n",
       "1          1  \n",
       "2          1  \n",
       "3          1  \n",
       "4          1  \n",
       "..       ...  \n",
       "195        2  \n",
       "196        0  \n",
       "197        2  \n",
       "198        0  \n",
       "199        2  \n",
       "\n",
       "[200 rows x 6 columns]"
      ]
     },
     "execution_count": 49,
     "metadata": {},
     "output_type": "execute_result"
    }
   ],
   "source": [
    "mb = pd.Series(model.labels_)\n",
    "ob['Cluster'] = mb\n",
    "ob"
   ]
  },
  {
   "cell_type": "code",
   "execution_count": 50,
   "id": "90ea9b69",
   "metadata": {},
   "outputs": [
    {
     "data": {
      "text/html": [
       "<div>\n",
       "<style scoped>\n",
       "    .dataframe tbody tr th:only-of-type {\n",
       "        vertical-align: middle;\n",
       "    }\n",
       "\n",
       "    .dataframe tbody tr th {\n",
       "        vertical-align: top;\n",
       "    }\n",
       "\n",
       "    .dataframe thead th {\n",
       "        text-align: right;\n",
       "    }\n",
       "</style>\n",
       "<table border=\"1\" class=\"dataframe\">\n",
       "  <thead>\n",
       "    <tr style=\"text-align: right;\">\n",
       "      <th></th>\n",
       "      <th>CustomerID</th>\n",
       "      <th>Gender</th>\n",
       "      <th>Age</th>\n",
       "      <th>Annual Income (k$)</th>\n",
       "      <th>Spending Score (1-100)</th>\n",
       "      <th>Cluster</th>\n",
       "    </tr>\n",
       "  </thead>\n",
       "  <tbody>\n",
       "    <tr>\n",
       "      <th>0</th>\n",
       "      <td>1</td>\n",
       "      <td>1</td>\n",
       "      <td>19</td>\n",
       "      <td>15.0</td>\n",
       "      <td>39</td>\n",
       "      <td>1</td>\n",
       "    </tr>\n",
       "    <tr>\n",
       "      <th>1</th>\n",
       "      <td>2</td>\n",
       "      <td>1</td>\n",
       "      <td>21</td>\n",
       "      <td>15.0</td>\n",
       "      <td>81</td>\n",
       "      <td>1</td>\n",
       "    </tr>\n",
       "    <tr>\n",
       "      <th>2</th>\n",
       "      <td>3</td>\n",
       "      <td>0</td>\n",
       "      <td>20</td>\n",
       "      <td>16.0</td>\n",
       "      <td>6</td>\n",
       "      <td>1</td>\n",
       "    </tr>\n",
       "  </tbody>\n",
       "</table>\n",
       "</div>"
      ],
      "text/plain": [
       "   CustomerID  Gender  Age  Annual Income (k$)  Spending Score (1-100)  \\\n",
       "0           1       1   19                15.0                      39   \n",
       "1           2       1   21                15.0                      81   \n",
       "2           3       0   20                16.0                       6   \n",
       "\n",
       "   Cluster  \n",
       "0        1  \n",
       "1        1  \n",
       "2        1  "
      ]
     },
     "execution_count": 50,
     "metadata": {},
     "output_type": "execute_result"
    }
   ],
   "source": [
    "mb=pd.Series(model.labels_)\n",
    "ob.head(3)"
   ]
  },
  {
   "cell_type": "markdown",
   "id": "a6430b85",
   "metadata": {},
   "source": [
    "# 10. Add the cluster data with the primary dataset"
   ]
  },
  {
   "cell_type": "code",
   "execution_count": 51,
   "id": "24af4930",
   "metadata": {},
   "outputs": [
    {
     "data": {
      "text/html": [
       "<div>\n",
       "<style scoped>\n",
       "    .dataframe tbody tr th:only-of-type {\n",
       "        vertical-align: middle;\n",
       "    }\n",
       "\n",
       "    .dataframe tbody tr th {\n",
       "        vertical-align: top;\n",
       "    }\n",
       "\n",
       "    .dataframe thead th {\n",
       "        text-align: right;\n",
       "    }\n",
       "</style>\n",
       "<table border=\"1\" class=\"dataframe\">\n",
       "  <thead>\n",
       "    <tr style=\"text-align: right;\">\n",
       "      <th></th>\n",
       "      <th>CustomerID</th>\n",
       "      <th>Gender</th>\n",
       "      <th>Age</th>\n",
       "      <th>Annual Income (k$)</th>\n",
       "      <th>Spending Score (1-100)</th>\n",
       "      <th>Cluster</th>\n",
       "    </tr>\n",
       "  </thead>\n",
       "  <tbody>\n",
       "    <tr>\n",
       "      <th>0</th>\n",
       "      <td>1</td>\n",
       "      <td>1</td>\n",
       "      <td>19</td>\n",
       "      <td>15.0</td>\n",
       "      <td>39</td>\n",
       "      <td>5</td>\n",
       "    </tr>\n",
       "    <tr>\n",
       "      <th>1</th>\n",
       "      <td>2</td>\n",
       "      <td>1</td>\n",
       "      <td>21</td>\n",
       "      <td>15.0</td>\n",
       "      <td>81</td>\n",
       "      <td>2</td>\n",
       "    </tr>\n",
       "    <tr>\n",
       "      <th>2</th>\n",
       "      <td>3</td>\n",
       "      <td>0</td>\n",
       "      <td>20</td>\n",
       "      <td>16.0</td>\n",
       "      <td>6</td>\n",
       "      <td>5</td>\n",
       "    </tr>\n",
       "    <tr>\n",
       "      <th>3</th>\n",
       "      <td>4</td>\n",
       "      <td>0</td>\n",
       "      <td>23</td>\n",
       "      <td>16.0</td>\n",
       "      <td>77</td>\n",
       "      <td>2</td>\n",
       "    </tr>\n",
       "    <tr>\n",
       "      <th>4</th>\n",
       "      <td>5</td>\n",
       "      <td>0</td>\n",
       "      <td>31</td>\n",
       "      <td>17.0</td>\n",
       "      <td>40</td>\n",
       "      <td>5</td>\n",
       "    </tr>\n",
       "  </tbody>\n",
       "</table>\n",
       "</div>"
      ],
      "text/plain": [
       "   CustomerID  Gender  Age  Annual Income (k$)  Spending Score (1-100)  \\\n",
       "0           1       1   19                15.0                      39   \n",
       "1           2       1   21                15.0                      81   \n",
       "2           3       0   20                16.0                       6   \n",
       "3           4       0   23                16.0                      77   \n",
       "4           5       0   31                17.0                      40   \n",
       "\n",
       "   Cluster  \n",
       "0        5  \n",
       "1        2  \n",
       "2        5  \n",
       "3        2  \n",
       "4        5  "
      ]
     },
     "execution_count": 51,
     "metadata": {},
     "output_type": "execute_result"
    }
   ],
   "source": [
    "ob['Cluster']=kmeans.labels_\n",
    "ob.head()"
   ]
  },
  {
   "cell_type": "code",
   "execution_count": 52,
   "id": "216a43fe",
   "metadata": {},
   "outputs": [
    {
     "data": {
      "text/html": [
       "<div>\n",
       "<style scoped>\n",
       "    .dataframe tbody tr th:only-of-type {\n",
       "        vertical-align: middle;\n",
       "    }\n",
       "\n",
       "    .dataframe tbody tr th {\n",
       "        vertical-align: top;\n",
       "    }\n",
       "\n",
       "    .dataframe thead th {\n",
       "        text-align: right;\n",
       "    }\n",
       "</style>\n",
       "<table border=\"1\" class=\"dataframe\">\n",
       "  <thead>\n",
       "    <tr style=\"text-align: right;\">\n",
       "      <th></th>\n",
       "      <th>CustomerID</th>\n",
       "      <th>Gender</th>\n",
       "      <th>Age</th>\n",
       "      <th>Annual Income (k$)</th>\n",
       "      <th>Spending Score (1-100)</th>\n",
       "      <th>Cluster</th>\n",
       "    </tr>\n",
       "  </thead>\n",
       "  <tbody>\n",
       "    <tr>\n",
       "      <th>195</th>\n",
       "      <td>196</td>\n",
       "      <td>0</td>\n",
       "      <td>35</td>\n",
       "      <td>120.00</td>\n",
       "      <td>79</td>\n",
       "      <td>4</td>\n",
       "    </tr>\n",
       "    <tr>\n",
       "      <th>196</th>\n",
       "      <td>197</td>\n",
       "      <td>0</td>\n",
       "      <td>45</td>\n",
       "      <td>126.00</td>\n",
       "      <td>28</td>\n",
       "      <td>7</td>\n",
       "    </tr>\n",
       "    <tr>\n",
       "      <th>197</th>\n",
       "      <td>198</td>\n",
       "      <td>1</td>\n",
       "      <td>32</td>\n",
       "      <td>126.00</td>\n",
       "      <td>74</td>\n",
       "      <td>4</td>\n",
       "    </tr>\n",
       "    <tr>\n",
       "      <th>198</th>\n",
       "      <td>199</td>\n",
       "      <td>1</td>\n",
       "      <td>32</td>\n",
       "      <td>60.55</td>\n",
       "      <td>18</td>\n",
       "      <td>7</td>\n",
       "    </tr>\n",
       "    <tr>\n",
       "      <th>199</th>\n",
       "      <td>200</td>\n",
       "      <td>1</td>\n",
       "      <td>30</td>\n",
       "      <td>60.55</td>\n",
       "      <td>83</td>\n",
       "      <td>4</td>\n",
       "    </tr>\n",
       "  </tbody>\n",
       "</table>\n",
       "</div>"
      ],
      "text/plain": [
       "     CustomerID  Gender  Age  Annual Income (k$)  Spending Score (1-100)  \\\n",
       "195         196       0   35              120.00                      79   \n",
       "196         197       0   45              126.00                      28   \n",
       "197         198       1   32              126.00                      74   \n",
       "198         199       1   32               60.55                      18   \n",
       "199         200       1   30               60.55                      83   \n",
       "\n",
       "     Cluster  \n",
       "195        4  \n",
       "196        7  \n",
       "197        4  \n",
       "198        7  \n",
       "199        4  "
      ]
     },
     "execution_count": 52,
     "metadata": {},
     "output_type": "execute_result"
    }
   ],
   "source": [
    "ob.tail()"
   ]
  },
  {
   "cell_type": "markdown",
   "id": "65350df8",
   "metadata": {},
   "source": [
    "# 11. Split the data into dependent and independent variables."
   ]
  },
  {
   "cell_type": "code",
   "execution_count": 55,
   "id": "7ac7233f",
   "metadata": {},
   "outputs": [],
   "source": [
    "X=ob.drop('Cluster',axis=1)\n",
    "Y=ob['Cluster']"
   ]
  },
  {
   "cell_type": "code",
   "execution_count": 56,
   "id": "2e8c7ee8",
   "metadata": {},
   "outputs": [
    {
     "data": {
      "text/plain": [
       "0      5\n",
       "1      2\n",
       "2      5\n",
       "3      2\n",
       "4      5\n",
       "      ..\n",
       "195    4\n",
       "196    7\n",
       "197    4\n",
       "198    7\n",
       "199    4\n",
       "Name: Cluster, Length: 200, dtype: int32"
      ]
     },
     "execution_count": 56,
     "metadata": {},
     "output_type": "execute_result"
    }
   ],
   "source": [
    "y=ob['Cluster']\n",
    "y"
   ]
  },
  {
   "cell_type": "code",
   "execution_count": 57,
   "id": "39ecb335",
   "metadata": {},
   "outputs": [],
   "source": [
    "from sklearn.model_selection import train_test_split\n",
    "X_train,X_test,y_train,y_test=train_test_split(X,Y,test_size=0.2,random_state=42)"
   ]
  },
  {
   "cell_type": "code",
   "execution_count": 58,
   "id": "9efd7512",
   "metadata": {},
   "outputs": [
    {
     "name": "stdout",
     "output_type": "stream",
     "text": [
      "Number transactions X_train dataset:  (160, 5)\n",
      "Number transactions y_train dataset:  (160,)\n",
      "Number transactions X_test dataset:  (40, 5)\n",
      "Number transactions y_test dataset:  (40,)\n"
     ]
    }
   ],
   "source": [
    "print(\"Number transactions X_train dataset: \", X_train.shape)\n",
    "print(\"Number transactions y_train dataset: \", y_train.shape)\n",
    "print(\"Number transactions X_test dataset: \", X_test.shape)\n",
    "print(\"Number transactions y_test dataset: \", y_test.shape)"
   ]
  },
  {
   "cell_type": "markdown",
   "id": "b3e2ce5f",
   "metadata": {},
   "source": [
    "# 12. Split the data into training and testing"
   ]
  },
  {
   "cell_type": "code",
   "execution_count": 59,
   "id": "311236d4",
   "metadata": {},
   "outputs": [
    {
     "data": {
      "text/html": [
       "<div>\n",
       "<style scoped>\n",
       "    .dataframe tbody tr th:only-of-type {\n",
       "        vertical-align: middle;\n",
       "    }\n",
       "\n",
       "    .dataframe tbody tr th {\n",
       "        vertical-align: top;\n",
       "    }\n",
       "\n",
       "    .dataframe thead th {\n",
       "        text-align: right;\n",
       "    }\n",
       "</style>\n",
       "<table border=\"1\" class=\"dataframe\">\n",
       "  <thead>\n",
       "    <tr style=\"text-align: right;\">\n",
       "      <th></th>\n",
       "      <th>CustomerID</th>\n",
       "      <th>Gender</th>\n",
       "      <th>Age</th>\n",
       "      <th>Annual Income (k$)</th>\n",
       "      <th>Spending Score (1-100)</th>\n",
       "    </tr>\n",
       "  </thead>\n",
       "  <tbody>\n",
       "    <tr>\n",
       "      <th>79</th>\n",
       "      <td>80</td>\n",
       "      <td>0</td>\n",
       "      <td>49</td>\n",
       "      <td>54.0</td>\n",
       "      <td>42</td>\n",
       "    </tr>\n",
       "    <tr>\n",
       "      <th>197</th>\n",
       "      <td>198</td>\n",
       "      <td>1</td>\n",
       "      <td>32</td>\n",
       "      <td>126.0</td>\n",
       "      <td>74</td>\n",
       "    </tr>\n",
       "    <tr>\n",
       "      <th>38</th>\n",
       "      <td>39</td>\n",
       "      <td>0</td>\n",
       "      <td>36</td>\n",
       "      <td>37.0</td>\n",
       "      <td>26</td>\n",
       "    </tr>\n",
       "    <tr>\n",
       "      <th>24</th>\n",
       "      <td>25</td>\n",
       "      <td>0</td>\n",
       "      <td>54</td>\n",
       "      <td>28.0</td>\n",
       "      <td>14</td>\n",
       "    </tr>\n",
       "    <tr>\n",
       "      <th>122</th>\n",
       "      <td>123</td>\n",
       "      <td>0</td>\n",
       "      <td>40</td>\n",
       "      <td>69.0</td>\n",
       "      <td>58</td>\n",
       "    </tr>\n",
       "    <tr>\n",
       "      <th>...</th>\n",
       "      <td>...</td>\n",
       "      <td>...</td>\n",
       "      <td>...</td>\n",
       "      <td>...</td>\n",
       "      <td>...</td>\n",
       "    </tr>\n",
       "    <tr>\n",
       "      <th>106</th>\n",
       "      <td>107</td>\n",
       "      <td>0</td>\n",
       "      <td>66</td>\n",
       "      <td>63.0</td>\n",
       "      <td>50</td>\n",
       "    </tr>\n",
       "    <tr>\n",
       "      <th>14</th>\n",
       "      <td>15</td>\n",
       "      <td>1</td>\n",
       "      <td>37</td>\n",
       "      <td>20.0</td>\n",
       "      <td>13</td>\n",
       "    </tr>\n",
       "    <tr>\n",
       "      <th>92</th>\n",
       "      <td>93</td>\n",
       "      <td>1</td>\n",
       "      <td>48</td>\n",
       "      <td>60.0</td>\n",
       "      <td>49</td>\n",
       "    </tr>\n",
       "    <tr>\n",
       "      <th>179</th>\n",
       "      <td>180</td>\n",
       "      <td>1</td>\n",
       "      <td>35</td>\n",
       "      <td>93.0</td>\n",
       "      <td>90</td>\n",
       "    </tr>\n",
       "    <tr>\n",
       "      <th>102</th>\n",
       "      <td>103</td>\n",
       "      <td>1</td>\n",
       "      <td>67</td>\n",
       "      <td>62.0</td>\n",
       "      <td>59</td>\n",
       "    </tr>\n",
       "  </tbody>\n",
       "</table>\n",
       "<p>160 rows × 5 columns</p>\n",
       "</div>"
      ],
      "text/plain": [
       "     CustomerID  Gender  Age  Annual Income (k$)  Spending Score (1-100)\n",
       "79           80       0   49                54.0                      42\n",
       "197         198       1   32               126.0                      74\n",
       "38           39       0   36                37.0                      26\n",
       "24           25       0   54                28.0                      14\n",
       "122         123       0   40                69.0                      58\n",
       "..          ...     ...  ...                 ...                     ...\n",
       "106         107       0   66                63.0                      50\n",
       "14           15       1   37                20.0                      13\n",
       "92           93       1   48                60.0                      49\n",
       "179         180       1   35                93.0                      90\n",
       "102         103       1   67                62.0                      59\n",
       "\n",
       "[160 rows x 5 columns]"
      ]
     },
     "execution_count": 59,
     "metadata": {},
     "output_type": "execute_result"
    }
   ],
   "source": [
    "X_train"
   ]
  },
  {
   "cell_type": "code",
   "execution_count": 60,
   "id": "54c47999",
   "metadata": {},
   "outputs": [
    {
     "data": {
      "text/html": [
       "<div>\n",
       "<style scoped>\n",
       "    .dataframe tbody tr th:only-of-type {\n",
       "        vertical-align: middle;\n",
       "    }\n",
       "\n",
       "    .dataframe tbody tr th {\n",
       "        vertical-align: top;\n",
       "    }\n",
       "\n",
       "    .dataframe thead th {\n",
       "        text-align: right;\n",
       "    }\n",
       "</style>\n",
       "<table border=\"1\" class=\"dataframe\">\n",
       "  <thead>\n",
       "    <tr style=\"text-align: right;\">\n",
       "      <th></th>\n",
       "      <th>CustomerID</th>\n",
       "      <th>Gender</th>\n",
       "      <th>Age</th>\n",
       "      <th>Annual Income (k$)</th>\n",
       "      <th>Spending Score (1-100)</th>\n",
       "    </tr>\n",
       "  </thead>\n",
       "  <tbody>\n",
       "    <tr>\n",
       "      <th>95</th>\n",
       "      <td>96</td>\n",
       "      <td>1</td>\n",
       "      <td>24</td>\n",
       "      <td>60.0</td>\n",
       "      <td>52</td>\n",
       "    </tr>\n",
       "    <tr>\n",
       "      <th>15</th>\n",
       "      <td>16</td>\n",
       "      <td>1</td>\n",
       "      <td>22</td>\n",
       "      <td>20.0</td>\n",
       "      <td>79</td>\n",
       "    </tr>\n",
       "    <tr>\n",
       "      <th>30</th>\n",
       "      <td>31</td>\n",
       "      <td>1</td>\n",
       "      <td>60</td>\n",
       "      <td>30.0</td>\n",
       "      <td>4</td>\n",
       "    </tr>\n",
       "    <tr>\n",
       "      <th>158</th>\n",
       "      <td>159</td>\n",
       "      <td>1</td>\n",
       "      <td>34</td>\n",
       "      <td>78.0</td>\n",
       "      <td>1</td>\n",
       "    </tr>\n",
       "    <tr>\n",
       "      <th>128</th>\n",
       "      <td>129</td>\n",
       "      <td>1</td>\n",
       "      <td>59</td>\n",
       "      <td>71.0</td>\n",
       "      <td>11</td>\n",
       "    </tr>\n",
       "    <tr>\n",
       "      <th>115</th>\n",
       "      <td>116</td>\n",
       "      <td>0</td>\n",
       "      <td>19</td>\n",
       "      <td>65.0</td>\n",
       "      <td>50</td>\n",
       "    </tr>\n",
       "    <tr>\n",
       "      <th>69</th>\n",
       "      <td>70</td>\n",
       "      <td>0</td>\n",
       "      <td>32</td>\n",
       "      <td>48.0</td>\n",
       "      <td>47</td>\n",
       "    </tr>\n",
       "    <tr>\n",
       "      <th>170</th>\n",
       "      <td>171</td>\n",
       "      <td>1</td>\n",
       "      <td>40</td>\n",
       "      <td>87.0</td>\n",
       "      <td>13</td>\n",
       "    </tr>\n",
       "    <tr>\n",
       "      <th>174</th>\n",
       "      <td>175</td>\n",
       "      <td>0</td>\n",
       "      <td>52</td>\n",
       "      <td>88.0</td>\n",
       "      <td>13</td>\n",
       "    </tr>\n",
       "    <tr>\n",
       "      <th>45</th>\n",
       "      <td>46</td>\n",
       "      <td>0</td>\n",
       "      <td>24</td>\n",
       "      <td>39.0</td>\n",
       "      <td>65</td>\n",
       "    </tr>\n",
       "    <tr>\n",
       "      <th>66</th>\n",
       "      <td>67</td>\n",
       "      <td>0</td>\n",
       "      <td>43</td>\n",
       "      <td>48.0</td>\n",
       "      <td>50</td>\n",
       "    </tr>\n",
       "    <tr>\n",
       "      <th>182</th>\n",
       "      <td>183</td>\n",
       "      <td>1</td>\n",
       "      <td>46</td>\n",
       "      <td>98.0</td>\n",
       "      <td>15</td>\n",
       "    </tr>\n",
       "    <tr>\n",
       "      <th>165</th>\n",
       "      <td>166</td>\n",
       "      <td>0</td>\n",
       "      <td>36</td>\n",
       "      <td>85.0</td>\n",
       "      <td>75</td>\n",
       "    </tr>\n",
       "    <tr>\n",
       "      <th>78</th>\n",
       "      <td>79</td>\n",
       "      <td>0</td>\n",
       "      <td>23</td>\n",
       "      <td>54.0</td>\n",
       "      <td>52</td>\n",
       "    </tr>\n",
       "    <tr>\n",
       "      <th>186</th>\n",
       "      <td>187</td>\n",
       "      <td>0</td>\n",
       "      <td>54</td>\n",
       "      <td>101.0</td>\n",
       "      <td>24</td>\n",
       "    </tr>\n",
       "    <tr>\n",
       "      <th>177</th>\n",
       "      <td>178</td>\n",
       "      <td>1</td>\n",
       "      <td>27</td>\n",
       "      <td>88.0</td>\n",
       "      <td>69</td>\n",
       "    </tr>\n",
       "    <tr>\n",
       "      <th>56</th>\n",
       "      <td>57</td>\n",
       "      <td>0</td>\n",
       "      <td>51</td>\n",
       "      <td>44.0</td>\n",
       "      <td>50</td>\n",
       "    </tr>\n",
       "    <tr>\n",
       "      <th>152</th>\n",
       "      <td>153</td>\n",
       "      <td>0</td>\n",
       "      <td>44</td>\n",
       "      <td>78.0</td>\n",
       "      <td>20</td>\n",
       "    </tr>\n",
       "    <tr>\n",
       "      <th>82</th>\n",
       "      <td>83</td>\n",
       "      <td>1</td>\n",
       "      <td>67</td>\n",
       "      <td>54.0</td>\n",
       "      <td>41</td>\n",
       "    </tr>\n",
       "    <tr>\n",
       "      <th>68</th>\n",
       "      <td>69</td>\n",
       "      <td>1</td>\n",
       "      <td>19</td>\n",
       "      <td>48.0</td>\n",
       "      <td>59</td>\n",
       "    </tr>\n",
       "    <tr>\n",
       "      <th>124</th>\n",
       "      <td>125</td>\n",
       "      <td>0</td>\n",
       "      <td>23</td>\n",
       "      <td>70.0</td>\n",
       "      <td>29</td>\n",
       "    </tr>\n",
       "    <tr>\n",
       "      <th>16</th>\n",
       "      <td>17</td>\n",
       "      <td>0</td>\n",
       "      <td>35</td>\n",
       "      <td>21.0</td>\n",
       "      <td>35</td>\n",
       "    </tr>\n",
       "    <tr>\n",
       "      <th>148</th>\n",
       "      <td>149</td>\n",
       "      <td>0</td>\n",
       "      <td>34</td>\n",
       "      <td>78.0</td>\n",
       "      <td>22</td>\n",
       "    </tr>\n",
       "    <tr>\n",
       "      <th>93</th>\n",
       "      <td>94</td>\n",
       "      <td>0</td>\n",
       "      <td>40</td>\n",
       "      <td>60.0</td>\n",
       "      <td>40</td>\n",
       "    </tr>\n",
       "    <tr>\n",
       "      <th>65</th>\n",
       "      <td>66</td>\n",
       "      <td>1</td>\n",
       "      <td>18</td>\n",
       "      <td>48.0</td>\n",
       "      <td>59</td>\n",
       "    </tr>\n",
       "    <tr>\n",
       "      <th>60</th>\n",
       "      <td>61</td>\n",
       "      <td>1</td>\n",
       "      <td>70</td>\n",
       "      <td>46.0</td>\n",
       "      <td>56</td>\n",
       "    </tr>\n",
       "    <tr>\n",
       "      <th>84</th>\n",
       "      <td>85</td>\n",
       "      <td>0</td>\n",
       "      <td>21</td>\n",
       "      <td>54.0</td>\n",
       "      <td>57</td>\n",
       "    </tr>\n",
       "    <tr>\n",
       "      <th>67</th>\n",
       "      <td>68</td>\n",
       "      <td>0</td>\n",
       "      <td>68</td>\n",
       "      <td>48.0</td>\n",
       "      <td>48</td>\n",
       "    </tr>\n",
       "    <tr>\n",
       "      <th>125</th>\n",
       "      <td>126</td>\n",
       "      <td>0</td>\n",
       "      <td>31</td>\n",
       "      <td>70.0</td>\n",
       "      <td>77</td>\n",
       "    </tr>\n",
       "    <tr>\n",
       "      <th>132</th>\n",
       "      <td>133</td>\n",
       "      <td>0</td>\n",
       "      <td>25</td>\n",
       "      <td>72.0</td>\n",
       "      <td>34</td>\n",
       "    </tr>\n",
       "    <tr>\n",
       "      <th>9</th>\n",
       "      <td>10</td>\n",
       "      <td>0</td>\n",
       "      <td>30</td>\n",
       "      <td>19.0</td>\n",
       "      <td>72</td>\n",
       "    </tr>\n",
       "    <tr>\n",
       "      <th>18</th>\n",
       "      <td>19</td>\n",
       "      <td>1</td>\n",
       "      <td>52</td>\n",
       "      <td>23.0</td>\n",
       "      <td>29</td>\n",
       "    </tr>\n",
       "    <tr>\n",
       "      <th>55</th>\n",
       "      <td>56</td>\n",
       "      <td>1</td>\n",
       "      <td>47</td>\n",
       "      <td>43.0</td>\n",
       "      <td>41</td>\n",
       "    </tr>\n",
       "    <tr>\n",
       "      <th>75</th>\n",
       "      <td>76</td>\n",
       "      <td>1</td>\n",
       "      <td>26</td>\n",
       "      <td>54.0</td>\n",
       "      <td>54</td>\n",
       "    </tr>\n",
       "    <tr>\n",
       "      <th>150</th>\n",
       "      <td>151</td>\n",
       "      <td>1</td>\n",
       "      <td>43</td>\n",
       "      <td>78.0</td>\n",
       "      <td>17</td>\n",
       "    </tr>\n",
       "    <tr>\n",
       "      <th>104</th>\n",
       "      <td>105</td>\n",
       "      <td>1</td>\n",
       "      <td>49</td>\n",
       "      <td>62.0</td>\n",
       "      <td>56</td>\n",
       "    </tr>\n",
       "    <tr>\n",
       "      <th>135</th>\n",
       "      <td>136</td>\n",
       "      <td>0</td>\n",
       "      <td>29</td>\n",
       "      <td>73.0</td>\n",
       "      <td>88</td>\n",
       "    </tr>\n",
       "    <tr>\n",
       "      <th>137</th>\n",
       "      <td>138</td>\n",
       "      <td>1</td>\n",
       "      <td>32</td>\n",
       "      <td>73.0</td>\n",
       "      <td>73</td>\n",
       "    </tr>\n",
       "    <tr>\n",
       "      <th>164</th>\n",
       "      <td>165</td>\n",
       "      <td>1</td>\n",
       "      <td>50</td>\n",
       "      <td>85.0</td>\n",
       "      <td>26</td>\n",
       "    </tr>\n",
       "    <tr>\n",
       "      <th>76</th>\n",
       "      <td>77</td>\n",
       "      <td>0</td>\n",
       "      <td>45</td>\n",
       "      <td>54.0</td>\n",
       "      <td>53</td>\n",
       "    </tr>\n",
       "  </tbody>\n",
       "</table>\n",
       "</div>"
      ],
      "text/plain": [
       "     CustomerID  Gender  Age  Annual Income (k$)  Spending Score (1-100)\n",
       "95           96       1   24                60.0                      52\n",
       "15           16       1   22                20.0                      79\n",
       "30           31       1   60                30.0                       4\n",
       "158         159       1   34                78.0                       1\n",
       "128         129       1   59                71.0                      11\n",
       "115         116       0   19                65.0                      50\n",
       "69           70       0   32                48.0                      47\n",
       "170         171       1   40                87.0                      13\n",
       "174         175       0   52                88.0                      13\n",
       "45           46       0   24                39.0                      65\n",
       "66           67       0   43                48.0                      50\n",
       "182         183       1   46                98.0                      15\n",
       "165         166       0   36                85.0                      75\n",
       "78           79       0   23                54.0                      52\n",
       "186         187       0   54               101.0                      24\n",
       "177         178       1   27                88.0                      69\n",
       "56           57       0   51                44.0                      50\n",
       "152         153       0   44                78.0                      20\n",
       "82           83       1   67                54.0                      41\n",
       "68           69       1   19                48.0                      59\n",
       "124         125       0   23                70.0                      29\n",
       "16           17       0   35                21.0                      35\n",
       "148         149       0   34                78.0                      22\n",
       "93           94       0   40                60.0                      40\n",
       "65           66       1   18                48.0                      59\n",
       "60           61       1   70                46.0                      56\n",
       "84           85       0   21                54.0                      57\n",
       "67           68       0   68                48.0                      48\n",
       "125         126       0   31                70.0                      77\n",
       "132         133       0   25                72.0                      34\n",
       "9            10       0   30                19.0                      72\n",
       "18           19       1   52                23.0                      29\n",
       "55           56       1   47                43.0                      41\n",
       "75           76       1   26                54.0                      54\n",
       "150         151       1   43                78.0                      17\n",
       "104         105       1   49                62.0                      56\n",
       "135         136       0   29                73.0                      88\n",
       "137         138       1   32                73.0                      73\n",
       "164         165       1   50                85.0                      26\n",
       "76           77       0   45                54.0                      53"
      ]
     },
     "execution_count": 60,
     "metadata": {},
     "output_type": "execute_result"
    }
   ],
   "source": [
    "X_test"
   ]
  },
  {
   "cell_type": "code",
   "execution_count": 61,
   "id": "03378e2f",
   "metadata": {},
   "outputs": [
    {
     "data": {
      "text/plain": [
       "79     1\n",
       "197    4\n",
       "38     5\n",
       "24     5\n",
       "122    6\n",
       "      ..\n",
       "106    6\n",
       "14     5\n",
       "92     6\n",
       "179    4\n",
       "102    6\n",
       "Name: Cluster, Length: 160, dtype: int32"
      ]
     },
     "execution_count": 61,
     "metadata": {},
     "output_type": "execute_result"
    }
   ],
   "source": [
    "y_train"
   ]
  },
  {
   "cell_type": "code",
   "execution_count": 62,
   "id": "90e8563c",
   "metadata": {},
   "outputs": [
    {
     "data": {
      "text/plain": [
       "95     6\n",
       "15     2\n",
       "30     5\n",
       "158    0\n",
       "128    0\n",
       "115    6\n",
       "69     1\n",
       "170    7\n",
       "174    7\n",
       "45     2\n",
       "66     1\n",
       "182    7\n",
       "165    4\n",
       "78     1\n",
       "186    7\n",
       "177    4\n",
       "56     1\n",
       "152    0\n",
       "82     1\n",
       "68     1\n",
       "124    0\n",
       "16     5\n",
       "148    0\n",
       "93     6\n",
       "65     1\n",
       "60     1\n",
       "84     6\n",
       "67     1\n",
       "125    3\n",
       "132    0\n",
       "9      2\n",
       "18     5\n",
       "55     1\n",
       "75     1\n",
       "150    0\n",
       "104    6\n",
       "135    3\n",
       "137    3\n",
       "164    7\n",
       "76     1\n",
       "Name: Cluster, dtype: int32"
      ]
     },
     "execution_count": 62,
     "metadata": {},
     "output_type": "execute_result"
    }
   ],
   "source": [
    "y_test"
   ]
  },
  {
   "cell_type": "markdown",
   "id": "8acd0f33",
   "metadata": {},
   "source": [
    "# 13. Build the Model"
   ]
  },
  {
   "cell_type": "code",
   "execution_count": 63,
   "id": "3837ef99",
   "metadata": {},
   "outputs": [
    {
     "name": "stderr",
     "output_type": "stream",
     "text": [
      "C:\\Users\\Sanjana\\anaconda3\\lib\\site-packages\\sklearn\\linear_model\\_logistic.py:814: ConvergenceWarning: lbfgs failed to converge (status=1):\n",
      "STOP: TOTAL NO. of ITERATIONS REACHED LIMIT.\n",
      "\n",
      "Increase the number of iterations (max_iter) or scale the data as shown in:\n",
      "    https://scikit-learn.org/stable/modules/preprocessing.html\n",
      "Please also refer to the documentation for alternative solver options:\n",
      "    https://scikit-learn.org/stable/modules/linear_model.html#logistic-regression\n",
      "  n_iter_i = _check_optimize_result(\n"
     ]
    },
    {
     "data": {
      "text/plain": [
       "LogisticRegression()"
      ]
     },
     "execution_count": 63,
     "metadata": {},
     "output_type": "execute_result"
    }
   ],
   "source": [
    "from sklearn.linear_model import LogisticRegression\n",
    "model=LogisticRegression()\n",
    "model.fit(X_train,y_train)"
   ]
  },
  {
   "cell_type": "markdown",
   "id": "54722e2b",
   "metadata": {},
   "source": [
    "# 14. Train the Model"
   ]
  },
  {
   "cell_type": "code",
   "execution_count": 64,
   "id": "9dd2c777",
   "metadata": {},
   "outputs": [
    {
     "data": {
      "text/plain": [
       "0.8375"
      ]
     },
     "execution_count": 64,
     "metadata": {},
     "output_type": "execute_result"
    }
   ],
   "source": [
    "model.score(X_train,y_train)"
   ]
  },
  {
   "cell_type": "markdown",
   "id": "f0938758",
   "metadata": {},
   "source": [
    "# 15. Test the Model"
   ]
  },
  {
   "cell_type": "code",
   "execution_count": 65,
   "id": "6e70bcd2",
   "metadata": {},
   "outputs": [
    {
     "data": {
      "text/plain": [
       "0.725"
      ]
     },
     "execution_count": 65,
     "metadata": {},
     "output_type": "execute_result"
    }
   ],
   "source": [
    "model.score(X_test,y_test)"
   ]
  },
  {
   "cell_type": "markdown",
   "id": "9346d50b",
   "metadata": {},
   "source": [
    "# 16. Measure the performance using Evaluation Metrics."
   ]
  },
  {
   "cell_type": "code",
   "execution_count": 66,
   "id": "c72aca6b",
   "metadata": {},
   "outputs": [
    {
     "data": {
      "text/plain": [
       "array([[ 3,  0,  0,  0,  0,  0,  0,  4],\n",
       "       [ 0, 10,  0,  0,  0,  0,  2,  0],\n",
       "       [ 0,  0,  3,  0,  0,  0,  0,  0],\n",
       "       [ 0,  0,  0,  3,  0,  0,  0,  0],\n",
       "       [ 0,  0,  0,  1,  1,  0,  0,  0],\n",
       "       [ 0,  0,  0,  0,  0,  3,  0,  0],\n",
       "       [ 0,  0,  0,  1,  1,  0,  3,  0],\n",
       "       [ 2,  0,  0,  0,  0,  0,  0,  3]], dtype=int64)"
      ]
     },
     "execution_count": 66,
     "metadata": {},
     "output_type": "execute_result"
    }
   ],
   "source": [
    "from sklearn.metrics import confusion_matrix,classification_report\n",
    "y_pred=model.predict(X_test)\n",
    "confusion_matrix(y_test,y_pred)"
   ]
  },
  {
   "cell_type": "code",
   "execution_count": 67,
   "id": "ddb3afa7",
   "metadata": {},
   "outputs": [
    {
     "name": "stdout",
     "output_type": "stream",
     "text": [
      "              precision    recall  f1-score   support\n",
      "\n",
      "           0       0.60      0.43      0.50         7\n",
      "           1       1.00      0.83      0.91        12\n",
      "           2       1.00      1.00      1.00         3\n",
      "           3       0.60      1.00      0.75         3\n",
      "           4       0.50      0.50      0.50         2\n",
      "           5       1.00      1.00      1.00         3\n",
      "           6       0.60      0.60      0.60         5\n",
      "           7       0.43      0.60      0.50         5\n",
      "\n",
      "    accuracy                           0.73        40\n",
      "   macro avg       0.72      0.75      0.72        40\n",
      "weighted avg       0.75      0.72      0.73        40\n",
      "\n"
     ]
    }
   ],
   "source": [
    "print(classification_report(y_test,y_pred))"
   ]
  }
 ],
 "metadata": {
  "kernelspec": {
   "display_name": "Python 3 (ipykernel)",
   "language": "python",
   "name": "python3"
  },
  "language_info": {
   "codemirror_mode": {
    "name": "ipython",
    "version": 3
   },
   "file_extension": ".py",
   "mimetype": "text/x-python",
   "name": "python",
   "nbconvert_exporter": "python",
   "pygments_lexer": "ipython3",
   "version": "3.9.12"
  }
 },
 "nbformat": 4,
 "nbformat_minor": 5
}
